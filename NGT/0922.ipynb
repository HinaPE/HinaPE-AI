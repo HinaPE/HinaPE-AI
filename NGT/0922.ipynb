{
 "cells": [
  {
   "cell_type": "code",
   "id": "initial_id",
   "metadata": {
    "collapsed": true,
    "ExecuteTime": {
     "end_time": "2024-09-27T10:32:56.750203Z",
     "start_time": "2024-09-27T10:32:56.735945Z"
    }
   },
   "source": [
    "import tensorflow as tf\n",
    "import argparse\n",
    "import sys\n",
    "import json\n",
    "import munch"
   ],
   "outputs": [],
   "execution_count": 6
  },
  {
   "metadata": {
    "ExecuteTime": {
     "end_time": "2024-09-27T10:32:56.766221Z",
     "start_time": "2024-09-27T10:32:56.757221Z"
    }
   },
   "cell_type": "code",
   "source": [
    "print(\"Python版本:\", sys.version)\n",
    "print(\"Python可执行程序路径:\", sys.executable)\n",
    "tf.compat.v1.enable_eager_execution()\n",
    "print(\"Eager execution enabled:\", tf.executing_eagerly())"
   ],
   "id": "3a1c4d7c252cf771",
   "outputs": [
    {
     "name": "stdout",
     "output_type": "stream",
     "text": [
      "Python版本: 3.7.0 (v3.7.0:1bf9cc5093, Jun 27 2018, 04:59:51) [MSC v.1914 64 bit (AMD64)]\n",
      "Python可执行程序路径: C:\\Users\\imeho\\AppData\\Local\\Programs\\Python\\Python37\\python.exe\n",
      "Eager execution enabled: True\n"
     ]
    }
   ],
   "execution_count": 7
  },
  {
   "metadata": {
    "ExecuteTime": {
     "end_time": "2024-09-27T10:32:56.861297Z",
     "start_time": "2024-09-27T10:32:56.847217Z"
    }
   },
   "cell_type": "code",
   "source": [
    "args = {\n",
    "    'setup_file': 'configs/mv_globt_small.json',\n",
    "    'cudaID': '0',\n",
    "    'render': True,\n",
    "    'fit': True,\n",
    "    'console': True,\n",
    "    'debug': False\n",
    "}\n",
    "args = argparse.Namespace(**args)"
   ],
   "id": "8f59fa86b6ef486e",
   "outputs": [],
   "execution_count": 8
  },
  {
   "metadata": {
    "ExecuteTime": {
     "end_time": "2024-09-27T10:33:01.154258Z",
     "start_time": "2024-09-27T10:33:01.140257Z"
    }
   },
   "cell_type": "code",
   "source": [
    "with open(args.setup_file, 'r') as setup_json:\n",
    "    setup = json.load(setup_json)\n",
    "with open(setup[\"rendering\"][\"target_cameras\"][\"calibration_file\"], 'r') as calibration_file:\n",
    "    cam_setup = json.load(calibration_file)\n",
    "setup['calibration']=cam_setup\n",
    "setup = munch.munchify(setup)\n",
    "setup"
   ],
   "id": "c41d5f30ea8a900d",
   "outputs": [
    {
     "data": {
      "text/plain": [
       "Munch({'data': Munch({'clip_grid': True, 'clip_grid_pad': 4, 'crop_grid': True, 'density': Munch({'hull_image_blur_std': 1.0, 'hull_smooth_blur_std': 0.0, 'hull_threshold': 0.04, 'hull_volume_blur_std': 0.5, 'inflow': Munch({'active': True, 'height': 'MAX', 'hull_height': 10}), 'initial_value': 'HULL_TIGHT', 'max': 256.0, 'min': 0.0, 'scalarFlow_reconstruction': 'data/ScalarFlow/sim_{sim:06d}/reconstruction/density_{frame:06d}.npz', 'scale': 2.5, 'synthetic_target_density_scale': 1.0, 'target': 'data/ScalarFlow/sim_{sim:06d}/input/cam/imgsUnproc_{frame:06d}.npz', 'target_cam_ids': [0, 1, 2, 3, 4], 'target_preproc': 'data/ScalarFlow/sim_{sim:06d}/input/postprocessed/imgs_{frame:06d}.npz', 'target_scale': 1.5, 'target_threshold': 0.04, 'target_type': 'RAW'}), 'discriminator': Munch({'crop_size': [96, 96], 'frames': [45, 145, 1], 'gamma_fake': [0.5, 2], 'gamma_real': [0.5, 2], 'real_res_down': 4, 'rotation_mode': '90', 'scale_fake': [0.7, 1.4], 'scale_input_to_crop': False, 'scale_range': [0.85, 1.15], 'scale_real': [0.8, 1.8], 'scale_real_to_cam': True, 'simulations': [0, 6], 'target_type': 'RAW'}), 'grid_size': 64, 'hull': 'TARGETS', 'initial_buoyancy': [0.0, 0.0, 0.0], 'load_sequence': None, 'load_sequence_pre_opt': False, 'rand_seed_global': 460585320, 'run_dirs': [], 'scalarFlow_frame_offset': -11, 'simulation': 0, 'start': 40, 'step': 2, 'stop': 100, 'velocity': Munch({'boundary': 'CLAMP', 'init_mask': 'HULL_TIGHT_NEXT', 'init_std': 0.1, 'initial_value': 'RAND', 'load_step': 1, 'scalarFlow_reconstruction': 'data/ScalarFlow/sim_{sim:06d}/reconstruction/velocity_{frame:06d}.npz'})}), 'debug': Munch({'disc_dump_samples': False}), 'desc': 'coupled reconstruction (main-opt) test with gradient back-warping', 'paths': Munch({'base': 'reconstruction', 'group': 'multiView'}), 'rendering': Munch({'allow_fused_rendering': True, 'allow_static_cameras': False, 'background': Munch({'color': [0, 0.5, 1.0], 'type': 'COLOR'}), 'blend_mode': 'BEER_LAMBERT', 'filter_mode': 'LINEAR', 'lighting': Munch({'ambient_intensity': 0.64, 'initial_intensity': 0.85, 'shadow_resolution': [256, 196, 196]}), 'luma': [0.2126, 0.7152, 0.0722], 'main_camera': Munch({'base_resolution': [256, 1920, 1080], 'distance': 0.8, 'far': 1.3, 'fov': 40, 'near': 0.3, 'resolution_scale': 0.3333333333333333}), 'mip': Munch({'bias': 0.0, 'level': 4, 'mode': 'LINEAR'}), 'monochrome': False, 'num_images': 24, 'sample_gradients': True, 'steps_per_cycle': 24, 'target_cameras': Munch({'calibration_file': 'scalaFlow_cameras.json', 'camera_ids': [2, 1, 0, 4, 3], 'crop_frustum': False, 'crop_frustum_pad': 2}), 'velocity_scale': 1024}), 'title': 's0-f30-2_full-method_half-res', 'training': Munch({'density': Munch({'camera_jitter': False, 'discriminator_loss': 1.5e-05, 'error_functions': Munch({'hull': 'SE', 'negative': 'SE', 'preprocessed_target_loss': 'SE', 'raw_target_loss': 'SE', 'smoothness_loss': 'SE', 'smoothness_loss_2': 'SE', 'target_depth_smoothness_loss': 'SE', 'temporal_smoothness_loss': 'SE', 'warp_loss': 'SE'}), 'grow': Munch({'factor': 1.2, 'intervals': [400, 400, 400, 400, 400, 400, 400, 400], 'post_grow_actions': [], 'pre_grow_actions': []}), 'hull': 0.0, 'learning_rate': Munch({'base': 0.5, 'scale': 6.666666666666667e-05, 'start': 2.45, 'type': 'exponential'}), 'main_warp_fwd': True, 'negative': 0.0, 'optim_beta': 0.9, 'pre_opt': Munch({'discriminator_loss': 0.0, 'first': Munch({'discriminator_loss': 0.0, 'hull': 0.0, 'iterations': 600, 'learning_rate': Munch({'base': 0.5, 'scale': 6.666666666666667e-05, 'start': 3.0, 'type': 'exponential'}), 'negative': 0.0, 'preprocessed_target_loss': 0.0, 'raw_target_loss': 1.74e-05, 'smoothness_loss': 0.0, 'smoothness_loss_2': 0.0, 'smoothness_neighbours': 3, 'target_depth_smoothness_loss': 0.0, 'temporal_smoothness_loss': 0.0, 'warp_loss': 0.0}), 'hull': 0.0, 'inspect_gradients': 1, 'iterations': 600, 'learning_rate': Munch({'base': 0.5, 'scale': 0.0003333333333333333, 'start': 3.0, 'type': 'exponential'}), 'negative': 0.0, 'preprocessed_target_loss': 0.0, 'raw_target_loss': 1.74e-05, 'seq_init': 'WARP', 'smoothness_loss': 0.0, 'smoothness_loss_2': 0.0, 'smoothness_neighbours': 3, 'target_depth_smoothness_loss': 0.0, 'temporal_smoothness_loss': 0.0, 'warp_loss': 0.0}), 'pre_optimization': True, 'preprocessed_target_loss': 0.0, 'raw_target_loss': 1.74e-05, 'scale_render_grads_sharpness': 0.0, 'smoothness_loss': 0.0, 'smoothness_loss_2': 0.0, 'smoothness_neighbours': 3, 'target_depth_smoothness_loss': 0.0, 'temporal_smoothness_loss': 0.0, 'use_hull': True, 'view_interpolation': Munch({'steps': 0}), 'warp_clamp': 'MC_SMOOTH', 'warp_gradients': Munch({'active': True, 'decay': 0.9, 'update_first_only': True, 'weight': 1.0}), 'warp_loss': [2.68e-10, 2.68e-10, 5.36e-10, 1.34e-13, 2000]}), 'discriminator': Munch({'activation': 'lrelu', 'activation_alpha': 0.2, 'active': False, 'cam_res_down': 6, 'conditional_hull': False, 'fake_camera_jitter': False, 'grow': Munch({'factor': 2.0, 'intervals': []}), 'history': Munch({'keep_chance': 0.01, 'load': None, 'reset_on_density_grow': True, 'samples': 4, 'save': False, 'sequence_reuse': True, 'size': 800}), 'kernel_size': 4, 'layers': [16, 16, 24, 24, 32, 32, 32, 64, 64, 64, 16, 4], 'learning_rate': 0.0002, 'loss_type': 'RaLSGAN', 'model': None, 'noise_std': 0.0, 'num_fake': 3, 'num_real': 4, 'optim_beta': 0.5, 'padding': 'MIRROR', 'pre_opt': Munch({'first': Munch({'learning_rate': Munch({'base': 0.5, 'scale': 0.00013333333333333334, 'start': 0.0004, 'type': 'exponential'}), 'regularization': 0.002, 'train': False}), 'learning_rate': 0.00016, 'regularization': 0.002, 'train': False}), 'regularization': 0.002, 'start_delay': 0, 'steps': 1, 'stride': [2, 1, 2, 1, 2, 1, 1, 2, 1, 1, 1, 1], 'target_label': 1.0, 'temporal_input': Munch({'active': False, 'step_range': [-3, 4, 1]}), 'train': True, 'use_fc': False}), 'frame_order': 'BWD', 'iterations': 4200, 'light': Munch({'learning_rate': Munch({'base': 1, 'scale': 0, 'start': 0.001, 'type': 'exponential'}), 'max': 6.0, 'min': 0.01, 'optim_beta': 0.9, 'optimize': False}), 'loss_active_eps': 1e-18, 'optimize_buoyancy': False, 'resource_device': '/cpu:0', 'summary_interval': 200, 'train_res_down': 6, 'velocity': Munch({'cossim_loss': 0.0, 'density_warp_loss': 4.1000000000000003e-10, 'divergence_loss': Munch({'base': 1.2, 'max': inf, 'min': -inf, 'offset': 0, 'scale': 0.0025, 'start': 2.58e-09, 'step': 0, 'type': 'EXPONENTIAL'}), 'divergence_normalize': 0.0, 'error_functions': Munch({'density_warp_loss': 'SE', 'divergence_loss': 'SE', 'magnitude_loss': 'SE', 'velocity_warp_loss': 'SE'}), 'grow': Munch({'factor': 1.2, 'intervals': [400, 400, 400, 400, 400, 400, 400, 400], 'scale_magnitude': True}), 'learning_rate': Munch({'base': 0.5, 'scale': 6.666666666666667e-05, 'start': 0.02, 'type': 'exponential'}), 'magnitude_loss': 0.0, 'noise_std': Munch({'base': 2.0, 'max': inf, 'min': -inf, 'offset': 0, 'scale': 1.0, 'start': 0.0, 'step': 0, 'type': 'CONST'}), 'optim_beta': 0.9, 'pre_opt': Munch({'cossim_loss': 0.0, 'density_warp_loss': 4.1000000000000003e-10, 'divergence_loss': 2.58e-09, 'first': Munch({'cossim_loss': 0.0, 'density_warp_loss': 4.1000000000000003e-10, 'divergence_loss': Munch({'base': 1.2, 'max': inf, 'min': -inf, 'offset': 0, 'scale': 0.001, 'start': 8.6e-10, 'step': 0, 'type': 'EXPONENTIAL'}), 'grow': Munch({'factor': 1.2, 'intervals': [1000, 1000, 1000, 1000], 'scale_magnitude': True}), 'iterations': 6000, 'learning_rate': 0.04, 'magnitude_loss': 0.0, 'smoothness_loss': 0.0, 'smoothness_neighbours': 3, 'velocity_warp_loss': 0.0}), 'grow': Munch({'factor': 1.2, 'intervals': [], 'scale_magnitude': True}), 'iterations': 600, 'learning_rate': 0.02, 'magnitude_loss': 0.0, 'seq_init': 'WARP', 'smoothness_loss': 0.0, 'smoothness_neighbours': 3, 'velocity_warp_loss': 0.0}), 'pre_optimization': True, 'smoothness_loss': 0.0, 'smoothness_neighbours': 3, 'velocity_warp_loss': Munch({'base': 2.0, 'max': 8.1e-11, 'min': 4.05e-11, 'offset': 0, 'scale': 1.0, 'start': 4.05e-11, 'step': 8.1e-15, 'type': 'LINEAR'}), 'warp_clamp': 'MC_SMOOTH', 'warp_gradients': Munch({'active': False, 'decay': 0.9, 'weight': 1.0}), 'warp_order': 2})}), 'validation': Munch({'cmp_scalarFlow': False, 'cmp_scalarFlow_render': False, 'output_interval': 100, 'render_cycle': False, 'render_cycle_steps': 8, 'render_density': True, 'render_shadow': True, 'render_target': True, 'render_velocity': True, 'stats': True, 'warp_test': False, 'warp_test_render': False}), 'calibration': Munch({'0': Munch({'forward': [0.02991165315231203, 0.2862955301699637, 0.9576743509201837], 'fov_horizontal': 23.78101295049065, 'fov_vertical': 40.48912068873593, 'position': [0.2844361227091017, 0.011681095083065586, -0.985782994544316], 'position_error': 5.225227536501316e-05, 'right': [0.999482898511128, -0.004169059649956844, -0.03188345221943645], 'rotation': [16.636304218500776, 1.788973998253707, 0.0], 'up': [-0.0012139369455675866, 0.9581538439081456, -0.2862511794930057]}), '1': Munch({'forward': [0.5615468372321614, 0.2879380447290926, 0.7757298705039941], 'fov_horizontal': 22.582333954355, 'fov_vertical': 40.46782568763134, 'position': [-0.39192498154812905, 0.010452679354390565, -0.8086869307225988], 'position_error': 0.000617079470636767, 'right': [0.8155876490580826, -0.027892342715864132, -0.5779609017240966], 'rotation': [16.734549964915107, 35.900584467250546, 0.0], 'up': [-0.12405813576773944, 0.9554980240982053, -0.2676436154558124]}), '2': Munch({'forward': [0.839886163674708, 0.28936547025845033, 0.4591937027985984], 'fov_horizontal': None, 'fov_vertical': 40.4354766330021, 'position': [-0.7697112134249342, 0.013170702826451303, -0.32495259467201193], 'position_error': 0.003692911448042811, 'right': [0.4877814604833295, -0.02067908593551731, -0.8727208157329706], 'rotation': [16.819971471487463, 61.333105216300034, 0.0], 'up': [-0.24484249213150328, 0.9571192369278678, -0.15483836846676868]}), '3': Munch({'forward': [-0.747669825922995, 0.27302277772441563, 0.6053498114709565], 'fov_horizontal': None, 'fov_vertical': 41.234227376207365, 'position': [1.2956339472855067, 0.024366562358338006, -0.4975469230725041], 'position_error': 0.00017112898022086318, 'right': [0.6348187184633104, 0.01937940769887405, 0.7724180430607774], 'rotation': [15.844219215313926, -51.00468761390708, 0.0], 'up': [0.206020666527721, 0.9616391003650987, -0.18112350927606619]}), '4': Munch({'forward': [-0.44314704373377406, 0.28570227819571825, 0.8497028338565153], 'fov_horizontal': 23.674657446663893, 'fov_vertical': 40.67651218062054, 'position': [0.8974969740854534, 0.026809888348629074, -0.8316138645339368], 'position_error': 4.6716698103299165e-05, 'right': [0.8837605181615485, -0.023959524804196622, 0.46732567627938887], 'rotation': [16.600831694196863, -27.543473127902832, 0.0], 'up': [0.1498681935496668, 0.95826194909627, -0.2434616221838202]}), 'focus': [0.3382070094283088, 0.38795384153014023, 0.2609209839653898], 'focus_error': 0.0012484445282397506, 'fov_horizontal_average': 23.34600145050318, 'fov_vertical_average': 40.660632513239456, 'marker_width': 0.4909, 'scale_y': 1.77, 'volume_offset': [0.08181666666666666, -0.04462727272727273, -0.004909], 'volume_size': [0.4909, 0.868893, 0.4909], 'volume_width': 0.4909})})"
      ]
     },
     "execution_count": 10,
     "metadata": {},
     "output_type": "execute_result"
    }
   ],
   "execution_count": 10
  }
 ],
 "metadata": {
  "kernelspec": {
   "display_name": "Python 3",
   "language": "python",
   "name": "python3"
  },
  "language_info": {
   "codemirror_mode": {
    "name": "ipython",
    "version": 2
   },
   "file_extension": ".py",
   "mimetype": "text/x-python",
   "name": "python",
   "nbconvert_exporter": "python",
   "pygments_lexer": "ipython2",
   "version": "2.7.6"
  }
 },
 "nbformat": 4,
 "nbformat_minor": 5
}
