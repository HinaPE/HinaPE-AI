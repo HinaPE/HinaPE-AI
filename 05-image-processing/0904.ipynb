{
 "cells": [
  {
   "cell_type": "code",
   "id": "initial_id",
   "metadata": {
    "collapsed": true,
    "ExecuteTime": {
     "end_time": "2024-09-11T19:40:13.859802Z",
     "start_time": "2024-09-11T19:40:13.854727Z"
    }
   },
   "source": [
    "import torch\n",
    "\n",
    "width = 4\n",
    "height = 4\n",
    "pose = torch.eye(4)\n",
    "focal = 1\n",
    "\n",
    "ii, jj = torch.meshgrid(torch.arange(width).to(pose), torch.arange(height).to(pose), indexing='ij')\n",
    "ii.transpose_(-1, -2)\n",
    "jj.transpose_(-1, -2)\n",
    "directions = torch.stack([(ii - width * .5) / focal, -(jj - height * .5) / focal, -torch.ones_like(ii)], dim=-1)"
   ],
   "outputs": [],
   "execution_count": 34
  },
  {
   "metadata": {
    "ExecuteTime": {
     "end_time": "2024-09-11T19:40:13.869351Z",
     "start_time": "2024-09-11T19:40:13.864318Z"
    }
   },
   "cell_type": "code",
   "source": [
    "print(ii)\n",
    "print(jj)"
   ],
   "id": "49c3d8781ce8330b",
   "outputs": [
    {
     "name": "stdout",
     "output_type": "stream",
     "text": [
      "tensor([[0., 1., 2., 3.],\n",
      "        [0., 1., 2., 3.],\n",
      "        [0., 1., 2., 3.],\n",
      "        [0., 1., 2., 3.]])\n",
      "tensor([[0., 0., 0., 0.],\n",
      "        [1., 1., 1., 1.],\n",
      "        [2., 2., 2., 2.],\n",
      "        [3., 3., 3., 3.]])\n"
     ]
    }
   ],
   "execution_count": 35
  },
  {
   "metadata": {
    "ExecuteTime": {
     "end_time": "2024-09-11T19:40:13.951495Z",
     "start_time": "2024-09-11T19:40:13.946035Z"
    }
   },
   "cell_type": "code",
   "source": "directions",
   "id": "d3f11e3723a97ec4",
   "outputs": [
    {
     "data": {
      "text/plain": [
       "tensor([[[-2.,  2., -1.],\n",
       "         [-1.,  2., -1.],\n",
       "         [ 0.,  2., -1.],\n",
       "         [ 1.,  2., -1.]],\n",
       "\n",
       "        [[-2.,  1., -1.],\n",
       "         [-1.,  1., -1.],\n",
       "         [ 0.,  1., -1.],\n",
       "         [ 1.,  1., -1.]],\n",
       "\n",
       "        [[-2., -0., -1.],\n",
       "         [-1., -0., -1.],\n",
       "         [ 0., -0., -1.],\n",
       "         [ 1., -0., -1.]],\n",
       "\n",
       "        [[-2., -1., -1.],\n",
       "         [-1., -1., -1.],\n",
       "         [ 0., -1., -1.],\n",
       "         [ 1., -1., -1.]]])"
      ]
     },
     "execution_count": 36,
     "metadata": {},
     "output_type": "execute_result"
    }
   ],
   "execution_count": 36
  },
  {
   "metadata": {
    "ExecuteTime": {
     "end_time": "2024-09-11T19:51:13.444355Z",
     "start_time": "2024-09-11T19:51:13.438416Z"
    }
   },
   "cell_type": "code",
   "source": "directions[..., None, :]",
   "id": "20ef961e17f3620a",
   "outputs": [
    {
     "data": {
      "text/plain": [
       "tensor([[[[-2.,  2., -1.]],\n",
       "\n",
       "         [[-1.,  2., -1.]],\n",
       "\n",
       "         [[ 0.,  2., -1.]],\n",
       "\n",
       "         [[ 1.,  2., -1.]]],\n",
       "\n",
       "\n",
       "        [[[-2.,  1., -1.]],\n",
       "\n",
       "         [[-1.,  1., -1.]],\n",
       "\n",
       "         [[ 0.,  1., -1.]],\n",
       "\n",
       "         [[ 1.,  1., -1.]]],\n",
       "\n",
       "\n",
       "        [[[-2., -0., -1.]],\n",
       "\n",
       "         [[-1., -0., -1.]],\n",
       "\n",
       "         [[ 0., -0., -1.]],\n",
       "\n",
       "         [[ 1., -0., -1.]]],\n",
       "\n",
       "\n",
       "        [[[-2., -1., -1.]],\n",
       "\n",
       "         [[-1., -1., -1.]],\n",
       "\n",
       "         [[ 0., -1., -1.]],\n",
       "\n",
       "         [[ 1., -1., -1.]]]])"
      ]
     },
     "execution_count": 38,
     "metadata": {},
     "output_type": "execute_result"
    }
   ],
   "execution_count": 38
  },
  {
   "metadata": {
    "ExecuteTime": {
     "end_time": "2024-09-11T19:52:05.064478Z",
     "start_time": "2024-09-11T19:52:05.059933Z"
    }
   },
   "cell_type": "code",
   "source": [
    "directions = torch.randn(2, 2, 3)\n",
    "print(directions.shape)  # 输出: torch.Size([2, 2, 3])\n",
    "\n",
    "# 使用 `None` 插入新维度\n",
    "directions_expanded = directions[..., None, :]\n",
    "print(directions_expanded.shape)  # 输出: torch.Size([2, 2, 1, 3])"
   ],
   "id": "ae1975f128245d37",
   "outputs": [
    {
     "name": "stdout",
     "output_type": "stream",
     "text": [
      "torch.Size([2, 2, 3])\n",
      "torch.Size([2, 2, 1, 3])\n"
     ]
    }
   ],
   "execution_count": 39
  }
 ],
 "metadata": {
  "kernelspec": {
   "display_name": "Python 3",
   "language": "python",
   "name": "python3"
  },
  "language_info": {
   "codemirror_mode": {
    "name": "ipython",
    "version": 2
   },
   "file_extension": ".py",
   "mimetype": "text/x-python",
   "name": "python",
   "nbconvert_exporter": "python",
   "pygments_lexer": "ipython2",
   "version": "2.7.6"
  }
 },
 "nbformat": 4,
 "nbformat_minor": 5
}
