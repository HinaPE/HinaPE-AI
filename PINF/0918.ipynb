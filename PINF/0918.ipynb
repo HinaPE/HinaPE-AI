{
 "cells": [
  {
   "cell_type": "code",
   "id": "initial_id",
   "metadata": {
    "collapsed": true,
    "ExecuteTime": {
     "end_time": "2024-09-17T21:50:39.637437Z",
     "start_time": "2024-09-17T21:50:39.633929Z"
    }
   },
   "source": [
    "import torch\n",
    "import argparse"
   ],
   "outputs": [],
   "execution_count": 5
  },
  {
   "metadata": {
    "ExecuteTime": {
     "end_time": "2024-09-17T21:50:39.647832Z",
     "start_time": "2024-09-17T21:50:39.641978Z"
    }
   },
   "cell_type": "code",
   "source": [
    "args = {\n",
    "    'config': 'configs/scalar.txt',\n",
    "    'expname': 'scalar_test1',\n",
    "    'basedir': './log',\n",
    "    'datadir': './data/ScalarReal',\n",
    "    'net_model': 'siren',\n",
    "    'netdepth': 8,\n",
    "    'netwidth': 256,\n",
    "    'netdepth_fine': 8,\n",
    "    'netwidth_fine': 256,\n",
    "    'N_rand': 1024,\n",
    "    'lrate': 0.0005,\n",
    "    'lrate_decay': 500,\n",
    "    'chunk': 32768,\n",
    "    'netchunk': 65536,\n",
    "    'no_batching': True,\n",
    "    'no_reload': False,\n",
    "    'ft_path': None,\n",
    "    'fix_seed': 42,\n",
    "    'fading_layers': 50000,\n",
    "    'tempo_delay': 0,\n",
    "    'vel_delay': 10000,\n",
    "    'N_iter': 600000,\n",
    "    'train_warp': True,\n",
    "    'bbox_min': '0.05',\n",
    "    'bbox_max': '0.9',\n",
    "    'vgg_strides': 4,\n",
    "    'ghostW': 0.07,\n",
    "    'vggW': 0.01,\n",
    "    'overlayW': -0.0,\n",
    "    'd2vW': 2.0,\n",
    "    'nseW': 0.001,\n",
    "    'vol_output_only': False,\n",
    "    'vol_output_W': 128,\n",
    "    'render_only': False,\n",
    "    'render_test': False,\n",
    "    'N_samples': 64,\n",
    "    'N_importance': 64,\n",
    "    'perturb': 1.0,\n",
    "    'use_viewdirs': False,\n",
    "    'i_embed': -1,\n",
    "    'multires': 10,\n",
    "    'multires_views': 4,\n",
    "    'raw_noise_std': 0.0,\n",
    "    'render_factor': 0,\n",
    "    'precrop_iters': 1000,\n",
    "    'precrop_frac': 0.5,\n",
    "    'dataset_type': 'pinf_data',\n",
    "    'testskip': 20,\n",
    "    'shape': 'greek',\n",
    "    'white_bkgd': True,\n",
    "    'half_res': 'half',\n",
    "    'factor': 8,\n",
    "    'no_ndc': False,\n",
    "    'lindisp': False,\n",
    "    'spherify': False,\n",
    "    'llffhold': 8,\n",
    "    'i_print': 400,\n",
    "    'i_img': 2000,\n",
    "    'i_weights': 25000,\n",
    "    'i_testset': 50000,\n",
    "    'i_video': 50000\n",
    "}\n",
    "args = argparse.Namespace(**args)\n",
    "device = torch.device(\"cuda\" if torch.cuda.is_available() else \"cpu\")\n",
    "torch.set_default_device('cuda')\n",
    "torch.set_default_dtype(torch.float32)"
   ],
   "id": "63d4463f1e656ba5",
   "outputs": [],
   "execution_count": 6
  },
  {
   "metadata": {
    "ExecuteTime": {
     "end_time": "2024-09-17T21:50:39.658033Z",
     "start_time": "2024-09-17T21:50:39.653853Z"
    }
   },
   "cell_type": "code",
   "source": "",
   "id": "7f5ba3549fb62250",
   "outputs": [],
   "execution_count": 7
  },
  {
   "metadata": {
    "ExecuteTime": {
     "end_time": "2024-09-17T21:50:39.667104Z",
     "start_time": "2024-09-17T21:50:39.664926Z"
    }
   },
   "cell_type": "code",
   "source": "",
   "id": "26f3e6bbad197a29",
   "outputs": [],
   "execution_count": null
  }
 ],
 "metadata": {
  "kernelspec": {
   "display_name": "Python 3",
   "language": "python",
   "name": "python3"
  },
  "language_info": {
   "codemirror_mode": {
    "name": "ipython",
    "version": 2
   },
   "file_extension": ".py",
   "mimetype": "text/x-python",
   "name": "python",
   "nbconvert_exporter": "python",
   "pygments_lexer": "ipython2",
   "version": "2.7.6"
  }
 },
 "nbformat": 4,
 "nbformat_minor": 5
}
