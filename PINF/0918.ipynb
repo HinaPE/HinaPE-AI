{
 "cells": [
  {
   "metadata": {},
   "cell_type": "markdown",
   "source": "# PINF",
   "id": "86338ab020b5e071"
  },
  {
   "metadata": {},
   "cell_type": "markdown",
   "source": "## 0. Hyperparameters",
   "id": "4a21f7f8e0bd9168"
  },
  {
   "cell_type": "code",
   "id": "initial_id",
   "metadata": {
    "collapsed": true,
    "ExecuteTime": {
     "end_time": "2024-10-09T07:02:28.806567Z",
     "start_time": "2024-10-09T07:02:26.685520Z"
    }
   },
   "source": [
    "import torch\n",
    "import numpy as np\n",
    "import imageio.v2 as imageio\n",
    "import cv2\n",
    "import argparse\n",
    "import json\n",
    "import os\n",
    "from typing import Tuple"
   ],
   "outputs": [],
   "execution_count": 1
  },
  {
   "metadata": {
    "ExecuteTime": {
     "end_time": "2024-10-09T07:02:28.840829Z",
     "start_time": "2024-10-09T07:02:28.810624Z"
    }
   },
   "cell_type": "code",
   "source": [
    "args = {\n",
    "    'config': 'configs/scalar.txt',\n",
    "    'expname': 'scalar_test1',\n",
    "    'basedir': './log',\n",
    "    'datadir': './data/ScalarReal',\n",
    "    'net_model': 'siren',\n",
    "    'netdepth': 8,\n",
    "    'netwidth': 256,\n",
    "    'netdepth_fine': 8,\n",
    "    'netwidth_fine': 256,\n",
    "    'N_rand': 1024,\n",
    "    'lrate': 0.0005,\n",
    "    'lrate_decay': 500,\n",
    "    'chunk': 32768,\n",
    "    'netchunk': 65536,\n",
    "    'no_batching': True,\n",
    "    'no_reload': False,\n",
    "    'ft_path': None,\n",
    "    'fix_seed': 42,\n",
    "    'fading_layers': 50000,\n",
    "    'tempo_delay': 0,\n",
    "    'vel_delay': 10000,\n",
    "    'N_iter': 600000,\n",
    "    'train_warp': True,\n",
    "    'bbox_min': '0.05',\n",
    "    'bbox_max': '0.9',\n",
    "    'vgg_strides': 4,\n",
    "    'ghostW': 0.07,\n",
    "    'vggW': 0.01,\n",
    "    'overlayW': -0.0,\n",
    "    'd2vW': 2.0,\n",
    "    'nseW': 0.001,\n",
    "    'vol_output_only': False,\n",
    "    'vol_output_W': 128,\n",
    "    'render_only': False,\n",
    "    'render_test': False,\n",
    "    'N_samples': 64,\n",
    "    'N_importance': 64,\n",
    "    'perturb': 1.0,\n",
    "    'use_viewdirs': False,\n",
    "    'i_embed': -1,\n",
    "    'multires': 10,\n",
    "    'multires_views': 4,\n",
    "    'raw_noise_std': 0.0,\n",
    "    'render_factor': 0,\n",
    "    'precrop_iters': 1000,\n",
    "    'precrop_frac': 0.5,\n",
    "    'dataset_type': 'pinf_data',\n",
    "    'testskip': 20,\n",
    "    'shape': 'greek',\n",
    "    'white_bkgd': True,\n",
    "    'half_res': 'half',\n",
    "    'factor': 8,\n",
    "    'no_ndc': False,\n",
    "    'lindisp': False,\n",
    "    'spherify': False,\n",
    "    'llffhold': 8,\n",
    "    'i_print': 400,\n",
    "    'i_img': 2000,\n",
    "    'i_weights': 25000,\n",
    "    'i_testset': 50000,\n",
    "    'i_video': 50000\n",
    "}\n",
    "args = argparse.Namespace(**args)\n",
    "device = torch.device(\"cuda\" if torch.cuda.is_available() else \"cpu\")\n",
    "torch.set_default_device('cuda')\n",
    "torch.set_default_dtype(torch.float32)"
   ],
   "id": "63d4463f1e656ba5",
   "outputs": [],
   "execution_count": 2
  },
  {
   "metadata": {
    "ExecuteTime": {
     "end_time": "2024-10-09T07:02:29.018864Z",
     "start_time": "2024-10-09T07:02:29.013925Z"
    }
   },
   "cell_type": "code",
   "source": [
    "np.random.seed(args.fix_seed)\n",
    "torch.manual_seed(args.fix_seed)\n",
    "if torch.cuda.is_available():\n",
    "    torch.cuda.manual_seed(args.fix_seed)\n",
    "    torch.backends.cudnn.deterministic = True"
   ],
   "id": "7f5ba3549fb62250",
   "outputs": [],
   "execution_count": 3
  },
  {
   "metadata": {},
   "cell_type": "markdown",
   "source": "## 1. Load Data and Preprocess",
   "id": "fbaa220436cbeb16"
  },
  {
   "metadata": {
    "ExecuteTime": {
     "end_time": "2024-10-09T07:02:50.467010Z",
     "start_time": "2024-10-09T07:02:29.025128Z"
    }
   },
   "cell_type": "code",
   "source": [
    "def load_data_pinf(in_type: str, in_skip: int = 1):\n",
    "    _all_images = []\n",
    "    _all_poses = []\n",
    "    _all_time_steps = []\n",
    "    with open(os.path.normpath(os.path.join(args.datadir, 'info.json')), 'r') as fp:\n",
    "        _meta = json.load(fp)\n",
    "        for _video in _meta[in_type + '_videos']:\n",
    "            _image_array = []\n",
    "            _pose_array = []\n",
    "            _time_step_array = []\n",
    "            _f_name = os.path.normpath(os.path.join(args.datadir, _video['file_name']))\n",
    "            _reader = imageio.get_reader(_f_name)\n",
    "            _frame_num = _video['frame_num']\n",
    "            _dt = 1. / _frame_num\n",
    "            for _idx in range(0, _frame_num, in_skip):\n",
    "                _reader.set_image_index(_idx)\n",
    "                _image_array.append(_reader.get_next_data())\n",
    "                _pose_array.append(_video['transform_matrix'])\n",
    "                _time_step_array.append(_idx * _dt)\n",
    "            _reader.close()\n",
    "            _all_images.append((np.array(_image_array) / 255.).astype(np.float32))\n",
    "            _all_poses.append(np.array(_pose_array).astype(np.float32))\n",
    "            _all_time_steps.append(np.array(_time_step_array).astype(np.float32))\n",
    "    return _all_images, _all_poses, _all_time_steps\n",
    "\n",
    "\n",
    "all_images, all_poses, all_time_steps = load_data_pinf('train')"
   ],
   "id": "ed93545f8dbbddf3",
   "outputs": [],
   "execution_count": 4
  },
  {
   "metadata": {
    "ExecuteTime": {
     "end_time": "2024-10-09T07:02:59.361063Z",
     "start_time": "2024-10-09T07:02:50.477407Z"
    }
   },
   "cell_type": "code",
   "source": [
    "diff_images = np.abs(all_images[0][1:] - all_images[0][:-1])\n",
    "diff_images_uint8 = (diff_images * 255).clip(0, 255).astype(np.uint8)\n",
    "output_file = 'diff_images_uint8.mp4'\n",
    "fps = 30\n",
    "with imageio.get_writer(output_file, fps=fps) as writer:\n",
    "    for frame in diff_images_uint8:\n",
    "        writer.append_data(frame)"
   ],
   "id": "f171476b59fc1d2f",
   "outputs": [
    {
     "name": "stderr",
     "output_type": "stream",
     "text": [
      "IMAGEIO FFMPEG_WRITER WARNING: input image is not divisible by macro_block_size=16, resizing from (1080, 1920) to (1088, 1920) to ensure video compatibility with most codecs and players. To prevent resizing, make your input image divisible by the macro_block_size or set the macro_block_size to 1 (risking incompatibility).\n"
     ]
    }
   ],
   "execution_count": 5
  },
  {
   "metadata": {
    "ExecuteTime": {
     "end_time": "2024-10-09T07:03:02.338867Z",
     "start_time": "2024-10-09T07:02:59.376537Z"
    }
   },
   "cell_type": "code",
   "source": [
    "import matplotlib.pyplot as plt\n",
    "frames = 30\n",
    "for _ in range(frames):\n",
    "    plt.subplot(10, frames // 10, _+1)\n",
    "    plt.imshow(all_images[0][_])\n",
    "plt.show()"
   ],
   "id": "fc895b98430a71e4",
   "outputs": [
    {
     "data": {
      "text/plain": [
       "<Figure size 640x480 with 30 Axes>"
      ],
      "image/png": "[encoded data removed]"
     },
     "metadata": {},
     "output_type": "display_data"
    }
   ],
   "execution_count": 6
  },
  {
   "metadata": {},
   "cell_type": "markdown",
   "source": "## 2. Model",
   "id": "7ab0a3680e3b8133"
  },
  {
   "metadata": {
    "ExecuteTime": {
     "end_time": "2024-10-09T07:03:02.358117Z",
     "start_time": "2024-10-09T07:03:02.354434Z"
    }
   },
   "cell_type": "code",
   "source": [
    "class SIREN(torch.nn.Module):\n",
    "    def __init__(self, net_width: int, net_depth: int, input_channel: int, input_channel_views: int, skips: list):\n",
    "        super(SIREN, self).__init__()\n",
    "\n",
    "    def forward(self, points: torch.Tensor, views: torch.Tensor):\n",
    "        pass"
   ],
   "id": "16cd8cf3935b641e",
   "outputs": [],
   "execution_count": 7
  },
  {
   "metadata": {
    "ExecuteTime": {
     "end_time": "2024-10-09T07:03:02.374822Z",
     "start_time": "2024-10-09T07:03:02.372913Z"
    }
   },
   "cell_type": "code",
   "source": "",
   "id": "78d19b08439e6e21",
   "outputs": [],
   "execution_count": null
  }
 ],
 "metadata": {
  "kernelspec": {
   "display_name": "Python 3",
   "language": "python",
   "name": "python3"
  },
  "language_info": {
   "codemirror_mode": {
    "name": "ipython",
    "version": 2
   },
   "file_extension": ".py",
   "mimetype": "text/x-python",
   "name": "python",
   "nbconvert_exporter": "python",
   "pygments_lexer": "ipython2",
   "version": "2.7.6"
  }
 },
 "nbformat": 4,
 "nbformat_minor": 5
}
