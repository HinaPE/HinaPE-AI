{
 "cells": [
  {
   "cell_type": "code",
   "id": "initial_id",
   "metadata": {
    "collapsed": true,
    "ExecuteTime": {
     "end_time": "2024-09-27T05:10:07.094045Z",
     "start_time": "2024-09-27T05:10:05.222328Z"
    }
   },
   "source": [
    "import torch\n",
    "from torch.utils.data import Dataset\n",
    "import taichi as ti\n",
    "import numpy as np\n",
    "import imageio\n",
    "import argparse\n",
    "import os"
   ],
   "outputs": [
    {
     "name": "stdout",
     "output_type": "stream",
     "text": [
      "[Taichi] version 1.7.1, llvm 15.0.1, commit 0f143b2f, win, python 3.11.8\n"
     ]
    }
   ],
   "execution_count": 2
  },
  {
   "metadata": {
    "ExecuteTime": {
     "end_time": "2024-09-27T05:10:07.109793Z",
     "start_time": "2024-09-27T05:10:07.105560Z"
    }
   },
   "cell_type": "code",
   "source": [
    "args = {'root_dir': './data/Synthetic_NeRF/Lego',\n",
    "        'dataset_name': 'nsvf',\n",
    "        'split': 'train',\n",
    "        'downsample': 1.0,\n",
    "        'model_name': 'ngp',\n",
    "        'scale': 0.5,\n",
    "        'half_opt': False,\n",
    "        'encoder_type': 'hash',\n",
    "        'sh_degree': 2,\n",
    "        'grid_size': 256,\n",
    "        'grid_radius': 0.0125,\n",
    "        'origin_sh': 0.0,\n",
    "        'origin_sigma': 0.1,\n",
    "        'distortion_loss_w': 0,\n",
    "        'batch_size': 8192,\n",
    "        'ray_sampling_strategy': 'all_images',\n",
    "        'max_steps': 20000,\n",
    "        'lr': 0.01,\n",
    "        'random_bg': False,\n",
    "        'exp_name': 'Lego',\n",
    "        'gpu': 0,\n",
    "        'ckpt_path': None,\n",
    "        'gui': True,\n",
    "        'deployment': False,\n",
    "        'deployment_model_path': './'}\n",
    "hparams = argparse.Namespace(**args)"
   ],
   "id": "e2470aa88f5b5f3b",
   "outputs": [],
   "execution_count": 3
  },
  {
   "metadata": {
    "ExecuteTime": {
     "end_time": "2024-09-27T05:10:07.143553Z",
     "start_time": "2024-09-27T05:10:07.140886Z"
    }
   },
   "cell_type": "code",
   "source": [
    "class LegoDataset(Dataset):\n",
    "    pass"
   ],
   "id": "ecbb7d3a0e05969e",
   "outputs": [],
   "execution_count": 4
  }
 ],
 "metadata": {
  "kernelspec": {
   "display_name": "Python 3",
   "language": "python",
   "name": "python3"
  },
  "language_info": {
   "codemirror_mode": {
    "name": "ipython",
    "version": 2
   },
   "file_extension": ".py",
   "mimetype": "text/x-python",
   "name": "python",
   "nbconvert_exporter": "python",
   "pygments_lexer": "ipython2",
   "version": "2.7.6"
  }
 },
 "nbformat": 4,
 "nbformat_minor": 5
}
