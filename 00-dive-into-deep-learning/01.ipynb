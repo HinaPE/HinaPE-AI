{
 "cells": [
  {
   "cell_type": "code",
   "id": "initial_id",
   "metadata": {
    "collapsed": true,
    "ExecuteTime": {
     "end_time": "2024-08-15T16:09:02.969149Z",
     "start_time": "2024-08-15T16:08:59.225604Z"
    }
   },
   "source": [
    "\"\"\" Differentiate through Pressure Solve\n",
    "\n",
    "This application demonstrates the backpropagation through the pressure solve operation used in simulating incompressible fluids.\n",
    "\n",
    "The demo Optimizes the velocity of an incompressible fluid in the left half of a closed space to match the TARGET in the right half.\n",
    "\"\"\"\n",
    "# from phi.torch.flow import *\n",
    "# from phi.jax.flow import *\n",
    "from phi.tf.flow import *\n",
    "\n",
    "DOMAIN = dict(x=80, y=64)\n",
    "LEFT = StaggeredGrid(Box(x=(-INF, 40), y=None), 0, **DOMAIN)\n",
    "RIGHT = StaggeredGrid(Box(x=(40, INF), y=None), 0, **DOMAIN)\n",
    "TARGET = RIGHT * StaggeredGrid(lambda x: math.exp(-0.5 * math.vec_squared(x - (50, 10), 'vector') / 32 ** 2), 0,\n",
    "                               **DOMAIN) * (0, 2)\n",
    "\n",
    "\n",
    "def loss(v0, p0):\n",
    "    v1, p = fluid.make_incompressible(v0 * LEFT, solve=Solve('CG-adaptive', 1e-5, x0=p0))\n",
    "    return field.l2_loss((v1 - TARGET) * RIGHT), v1, p\n",
    "\n",
    "\n",
    "eval_grad_v0 = field.functional_gradient(loss, 'v0', get_output=True)\n",
    "p0 = gradient = incompressible_velocity = remaining_divergence = None\n",
    "velocity_fit = StaggeredGrid(Noise(), 0, **DOMAIN) * 0.1 * LEFT\n",
    "viewer = view('incompressible_velocity', TARGET, 'gradient', velocity_fit, 'remaining_divergence', play=False,\n",
    "              namespace=globals())\n",
    "\n",
    "for iteration in viewer.range(warmup=1):\n",
    "    (loss, incompressible_velocity, pressure_guess), gradient = eval_grad_v0(velocity_fit, p0)\n",
    "    remaining_divergence = field.divergence(incompressible_velocity)\n",
    "    viewer.log_scalars(loss=loss)\n",
    "    velocity_fit -= gradient"
   ],
   "outputs": [
    {
     "ename": "NotImplementedError",
     "evalue": "There is currently no GUI support for Python notebooks. Use `vis.plot()` to display plots or animations instead.",
     "output_type": "error",
     "traceback": [
      "\u001B[1;31m---------------------------------------------------------------------------\u001B[0m",
      "\u001B[1;31mNotImplementedError\u001B[0m                       Traceback (most recent call last)",
      "Cell \u001B[1;32mIn[1], line 26\u001B[0m\n\u001B[0;32m     24\u001B[0m p0 \u001B[38;5;241m=\u001B[39m gradient \u001B[38;5;241m=\u001B[39m incompressible_velocity \u001B[38;5;241m=\u001B[39m remaining_divergence \u001B[38;5;241m=\u001B[39m \u001B[38;5;28;01mNone\u001B[39;00m\n\u001B[0;32m     25\u001B[0m velocity_fit \u001B[38;5;241m=\u001B[39m StaggeredGrid(Noise(), \u001B[38;5;241m0\u001B[39m, \u001B[38;5;241m*\u001B[39m\u001B[38;5;241m*\u001B[39mDOMAIN) \u001B[38;5;241m*\u001B[39m \u001B[38;5;241m0.1\u001B[39m \u001B[38;5;241m*\u001B[39m LEFT\n\u001B[1;32m---> 26\u001B[0m viewer \u001B[38;5;241m=\u001B[39m \u001B[43mview\u001B[49m\u001B[43m(\u001B[49m\u001B[38;5;124;43m'\u001B[39;49m\u001B[38;5;124;43mincompressible_velocity\u001B[39;49m\u001B[38;5;124;43m'\u001B[39;49m\u001B[43m,\u001B[49m\u001B[43m \u001B[49m\u001B[43mTARGET\u001B[49m\u001B[43m,\u001B[49m\u001B[43m \u001B[49m\u001B[38;5;124;43m'\u001B[39;49m\u001B[38;5;124;43mgradient\u001B[39;49m\u001B[38;5;124;43m'\u001B[39;49m\u001B[43m,\u001B[49m\u001B[43m \u001B[49m\u001B[43mvelocity_fit\u001B[49m\u001B[43m,\u001B[49m\u001B[43m \u001B[49m\u001B[38;5;124;43m'\u001B[39;49m\u001B[38;5;124;43mremaining_divergence\u001B[39;49m\u001B[38;5;124;43m'\u001B[39;49m\u001B[43m,\u001B[49m\u001B[43m \u001B[49m\u001B[43mplay\u001B[49m\u001B[38;5;241;43m=\u001B[39;49m\u001B[38;5;28;43;01mFalse\u001B[39;49;00m\u001B[43m,\u001B[49m\n\u001B[0;32m     27\u001B[0m \u001B[43m              \u001B[49m\u001B[43mnamespace\u001B[49m\u001B[38;5;241;43m=\u001B[39;49m\u001B[38;5;28;43mglobals\u001B[39;49m\u001B[43m(\u001B[49m\u001B[43m)\u001B[49m\u001B[43m)\u001B[49m\n\u001B[0;32m     29\u001B[0m \u001B[38;5;28;01mfor\u001B[39;00m iteration \u001B[38;5;129;01min\u001B[39;00m viewer\u001B[38;5;241m.\u001B[39mrange(warmup\u001B[38;5;241m=\u001B[39m\u001B[38;5;241m1\u001B[39m):\n\u001B[0;32m     30\u001B[0m     (loss, incompressible_velocity, pressure_guess), gradient \u001B[38;5;241m=\u001B[39m eval_grad_v0(velocity_fit, p0)\n",
      "File \u001B[1;32m~\\AppData\\Roaming\\Python\\Python311\\site-packages\\phi\\vis\\_vis.py:183\u001B[0m, in \u001B[0;36mview\u001B[1;34m(play, gui, name, description, scene, keep_alive, select, framerate, namespace, log_performance, *fields, **config)\u001B[0m\n\u001B[0;32m    181\u001B[0m name \u001B[38;5;241m=\u001B[39m name \u001B[38;5;129;01mor\u001B[39;00m user_namespace\u001B[38;5;241m.\u001B[39mget_title()\n\u001B[0;32m    182\u001B[0m description \u001B[38;5;241m=\u001B[39m description \u001B[38;5;129;01mor\u001B[39;00m user_namespace\u001B[38;5;241m.\u001B[39mget_description()\n\u001B[1;32m--> 183\u001B[0m gui \u001B[38;5;241m=\u001B[39m \u001B[43mdefault_gui\u001B[49m\u001B[43m(\u001B[49m\u001B[43m)\u001B[49m \u001B[38;5;28;01mif\u001B[39;00m gui \u001B[38;5;129;01mis\u001B[39;00m \u001B[38;5;28;01mNone\u001B[39;00m \u001B[38;5;28;01melse\u001B[39;00m get_gui(gui)\n\u001B[0;32m    184\u001B[0m controls \u001B[38;5;241m=\u001B[39m \u001B[38;5;28mtuple\u001B[39m(c \u001B[38;5;28;01mfor\u001B[39;00m c \u001B[38;5;129;01min\u001B[39;00m \u001B[38;5;28msorted\u001B[39m(CONTROL_VARS\u001B[38;5;241m.\u001B[39mvalues(), key\u001B[38;5;241m=\u001B[39m\u001B[38;5;28;01mlambda\u001B[39;00m c: c\u001B[38;5;241m.\u001B[39mname) \u001B[38;5;28;01mif\u001B[39;00m\n\u001B[0;32m    185\u001B[0m                  user_namespace\u001B[38;5;241m.\u001B[39mget_variable(c\u001B[38;5;241m.\u001B[39mname) \u001B[38;5;129;01mis\u001B[39;00m \u001B[38;5;129;01mnot\u001B[39;00m \u001B[38;5;28;01mNone\u001B[39;00m)\n\u001B[0;32m    186\u001B[0m CONTROL_VARS\u001B[38;5;241m.\u001B[39mclear()\n",
      "File \u001B[1;32m~\\AppData\\Roaming\\Python\\Python311\\site-packages\\phi\\vis\\_vis.py:570\u001B[0m, in \u001B[0;36mdefault_gui\u001B[1;34m()\u001B[0m\n\u001B[0;32m    568\u001B[0m     \u001B[38;5;28;01mreturn\u001B[39;00m GUI_OVERRIDES[\u001B[38;5;241m-\u001B[39m\u001B[38;5;241m1\u001B[39m]\n\u001B[0;32m    569\u001B[0m \u001B[38;5;28;01mif\u001B[39;00m \u001B[38;5;124m'\u001B[39m\u001B[38;5;124mgoogle.colab\u001B[39m\u001B[38;5;124m'\u001B[39m \u001B[38;5;129;01min\u001B[39;00m sys\u001B[38;5;241m.\u001B[39mmodules \u001B[38;5;129;01mor\u001B[39;00m \u001B[38;5;124m'\u001B[39m\u001B[38;5;124mipykernel\u001B[39m\u001B[38;5;124m'\u001B[39m \u001B[38;5;129;01min\u001B[39;00m sys\u001B[38;5;241m.\u001B[39mmodules:\n\u001B[1;32m--> 570\u001B[0m     \u001B[38;5;28;01mraise\u001B[39;00m \u001B[38;5;167;01mNotImplementedError\u001B[39;00m(\u001B[38;5;124m\"\u001B[39m\u001B[38;5;124mThere is currently no GUI support for Python notebooks. Use `vis.plot()` to display plots or animations instead.\u001B[39m\u001B[38;5;124m\"\u001B[39m)\n\u001B[0;32m    571\u001B[0m \u001B[38;5;28;01melse\u001B[39;00m:\n\u001B[0;32m    572\u001B[0m     options \u001B[38;5;241m=\u001B[39m [\u001B[38;5;124m'\u001B[39m\u001B[38;5;124mdash\u001B[39m\u001B[38;5;124m'\u001B[39m, \u001B[38;5;124m'\u001B[39m\u001B[38;5;124mconsole\u001B[39m\u001B[38;5;124m'\u001B[39m]\n",
      "\u001B[1;31mNotImplementedError\u001B[0m: There is currently no GUI support for Python notebooks. Use `vis.plot()` to display plots or animations instead."
     ]
    }
   ],
   "execution_count": 1
  }
 ],
 "metadata": {
  "kernelspec": {
   "display_name": "Python 3",
   "language": "python",
   "name": "python3"
  },
  "language_info": {
   "codemirror_mode": {
    "name": "ipython",
    "version": 2
   },
   "file_extension": ".py",
   "mimetype": "text/x-python",
   "name": "python",
   "nbconvert_exporter": "python",
   "pygments_lexer": "ipython2",
   "version": "2.7.6"
  }
 },
 "nbformat": 4,
 "nbformat_minor": 5
}
