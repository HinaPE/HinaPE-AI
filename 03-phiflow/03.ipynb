{
 "cells": [
  {
   "cell_type": "code",
   "id": "initial_id",
   "metadata": {
    "collapsed": true,
    "ExecuteTime": {
     "end_time": "2024-08-06T07:51:45.537562Z",
     "start_time": "2024-08-06T07:51:42.611242Z"
    }
   },
   "source": [
    "from phi.torch.flow import *\n",
    "from tqdm.notebook import trange\n",
    "import numpy as np"
   ],
   "outputs": [],
   "execution_count": 1
  },
  {
   "metadata": {
    "ExecuteTime": {
     "end_time": "2024-08-06T07:57:26.480956Z",
     "start_time": "2024-08-06T07:57:26.477468Z"
    }
   },
   "cell_type": "code",
   "source": [
    "inflow = Sphere(x=0, y=0, z=0, radius=1)\n",
    "inflow_rate = 0.2\n",
    "dt = 0.1\n",
    "\n",
    "def step(v, s, p, dt):\n",
    "    s = advect.mac_cormack(s, v, dt) + inflow_rate * resample(inflow, to=s, soft=True)\n",
    "    # buoyancy = resample(s * (0, 0.1), to=v)\n",
    "    # v = advect.semi_lagrangian(v, v, dt) + buoyancy * dt\n",
    "    # v, p = fluid.make_incompressible(v, (), Solve('CG', 1e-3, x0=p))\n",
    "    return v, s, p"
   ],
   "id": "f7a253b2676dfca5",
   "outputs": [],
   "execution_count": 14
  },
  {
   "metadata": {
    "ExecuteTime": {
     "end_time": "2024-08-06T07:57:27.240613Z",
     "start_time": "2024-08-06T07:57:27.123158Z"
    }
   },
   "cell_type": "code",
   "source": [
    "size = (1, 1, 1)\n",
    "center = (0, 0, 0)\n",
    "\n",
    "input_bounds = Box(x=(-size[0] / 2 + center[0], size[0] / 2 + center[0]), y=(-size[1] / 2 + center[1], size[1] / 2 + center[1]), z=(-size[2] / 2 + center[2], size[2] / 2 + center[2]))\n",
    "input_resx = 100\n",
    "input_resy = 100\n",
    "input_resz = 100\n",
    "\n",
    "smoke0 = CenteredGrid(values=0, boundary=ZERO_GRADIENT, bounds=input_bounds, resolution=spatial(x=int(input_resx), y=int(input_resy), z=int(input_resz)))\n",
    "v0 = StaggeredGrid(values=0, boundary=0, bounds=input_bounds, resolution=spatial(x=int(input_resx), y=int(input_resy), z=int(input_resz)))"
   ],
   "id": "8f2f0cb85d4a018a",
   "outputs": [],
   "execution_count": 15
  },
  {
   "metadata": {
    "ExecuteTime": {
     "end_time": "2024-08-06T07:57:27.988684Z",
     "start_time": "2024-08-06T07:57:27.473049Z"
    }
   },
   "cell_type": "code",
   "source": "v, s, p = step(v0, smoke0, None, dt)",
   "id": "cbadd849799e7c3b",
   "outputs": [],
   "execution_count": 16
  },
  {
   "metadata": {
    "ExecuteTime": {
     "end_time": "2024-08-06T07:53:49.154433Z",
     "start_time": "2024-08-06T07:53:49.053565Z"
    }
   },
   "cell_type": "code",
   "source": "v0",
   "id": "2493d5957839149a",
   "outputs": [
    {
     "data": {
      "text/plain": [
       "Grid faces[\u001B[92m(~vectorᵈ=x,y,z, xˢ=~\u001B[94m(x=101, y=100, z=100)\u001B[92m, yˢ=~\u001B[94m(x=100, y=101, z=100)\u001B[92m, zˢ=~\u001B[94m(x=100, y=100, z=101)\u001B[92m)\u001B[0m \u001B[94mconst 0.0\u001B[0m, ext=zero-gradient]"
      ]
     },
     "execution_count": 6,
     "metadata": {},
     "output_type": "execute_result"
    }
   ],
   "execution_count": 6
  }
 ],
 "metadata": {
  "kernelspec": {
   "display_name": "Python 3",
   "language": "python",
   "name": "python3"
  },
  "language_info": {
   "codemirror_mode": {
    "name": "ipython",
    "version": 2
   },
   "file_extension": ".py",
   "mimetype": "text/x-python",
   "name": "python",
   "nbconvert_exporter": "python",
   "pygments_lexer": "ipython2",
   "version": "2.7.6"
  }
 },
 "nbformat": 4,
 "nbformat_minor": 5
}
