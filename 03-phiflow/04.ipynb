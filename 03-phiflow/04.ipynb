{
 "cells": [
  {
   "cell_type": "code",
   "id": "initial_id",
   "metadata": {
    "collapsed": true,
    "ExecuteTime": {
     "end_time": "2024-08-07T06:03:20.462218Z",
     "start_time": "2024-08-07T06:03:20.307580Z"
    }
   },
   "source": [
    "import numpy as np\n",
    "import phiml.math\n",
    "from phi.torch.flow import *\n",
    "\n",
    "res = (100, 100, 100)\n",
    "velocity = StaggeredGrid((0, 0, 0), 0, x=res[0], y=res[1], z=res[2], bounds=Box(x=1, y=1, z=1))\n",
    "smoke = CenteredGrid(0, ZERO_GRADIENT, x=res[0], y=res[1], z=res[2], bounds=Box(x=1, y=1, z=1))\n",
    "INFLOW = resample(Sphere(x=0.5, y=0.5, z=0.5, radius=0.1), to=smoke, soft=True)\n",
    "pressure = None\n",
    "\n",
    "\n",
    "@jit_compile  # Only for PyTorch, TensorFlow and Jax\n",
    "def step(v, s, p, dt=0.1):\n",
    "    s = advect.mac_cormack(s, v, dt) + INFLOW\n",
    "    buoyancy = resample(s * (0, 0, 0.1), to=v)\n",
    "    v = advect.semi_lagrangian(v, v, dt) + buoyancy * dt\n",
    "    v, p = fluid.make_incompressible(v, (), Solve('auto', 1e-5, x0=p))\n",
    "    return v, s, p"
   ],
   "outputs": [],
   "execution_count": 9
  },
  {
   "metadata": {
    "ExecuteTime": {
     "end_time": "2024-08-07T06:03:29.504906Z",
     "start_time": "2024-08-07T06:03:23.643783Z"
    }
   },
   "cell_type": "code",
   "source": [
    "velocity, smoke, pressure = step(velocity, smoke, pressure)\n",
    "print(velocity.at_centers())"
   ],
   "id": "ff9937c301fecc84",
   "outputs": [
    {
     "name": "stderr",
     "output_type": "stream",
     "text": [
      "C:\\Users\\xayah\\Desktop\\DeepLearningSim\\HinaPE-AI\\venv\\lib\\site-packages\\phiml\\backend\\torch\\_torch_backend.py:1082: RuntimeWarning: PyTorch does not support nested tracing. The inner JIT of native(step) will be ignored.\n",
      "  warnings.warn(f\"PyTorch does not support nested tracing. The inner JIT of {self.f.__name__} will be ignored.\", RuntimeWarning)\n"
     ]
    },
    {
     "name": "stdout",
     "output_type": "stream",
     "text": [
      "Grid[\u001B[92m(xˢ=100, yˢ=100, zˢ=100, vectorᶜ=x,y,z)\u001B[0m \u001B[93mfloat32\u001B[0m \u001B[94mtorch tracer\u001B[0m, ext=\u001B[92m()\u001B[0m \u001B[93mint32\u001B[0m \u001B[94mtorch tracer\u001B[0m]\n"
     ]
    }
   ],
   "execution_count": 10
  },
  {
   "metadata": {
    "ExecuteTime": {
     "end_time": "2024-08-06T18:40:53.964608Z",
     "start_time": "2024-08-06T18:40:53.847767Z"
    }
   },
   "cell_type": "code",
   "source": [
    "res = 2\n",
    "vx = tensor(np.zeros((res + 1, res, res)), spatial(\"x,y,z\"))\n",
    "vy = tensor(np.zeros((res, res + 1, res)), spatial(\"x,y,z\"))\n",
    "vz = tensor(np.zeros((res, res, res + 1)), spatial(\"x,y,z\"))\n",
    "\n",
    "velocity = StaggeredGrid(values=math.stack([vx, vy, vz], dual(vector='x,y,z')), bounds=Box(x=(0, 1), y=(0, 1), z=(0, 1)), resolution=spatial(x=res, y=res, z=res), extrapolation=phiml.math.extrapolation.BOUNDARY)\n",
    "\n",
    "# print(velocity['x'].values.native('x,y,z') == vx)\n",
    "# print(velocity['y'].values.native('x,y,z') == vy)\n",
    "# print(velocity['z'].values.native('x,y,z') == vz)\n",
    "\n",
    "np.set_printoptions(threshold=np.inf)\n",
    "print(velocity['x'].values.native('x,y,z').cpu().detach().numpy().flatten())"
   ],
   "id": "b1db0ed20d4b165d",
   "outputs": [
    {
     "ename": "AssertionError",
     "evalue": "Failed to create StaggeredGrid: values (~vectorᵈ=x,y,z, xˢ=~\u001B[94m(x=3, y=2, z=2)\u001B[0m, yˢ=~\u001B[94m(x=2, y=3, z=2)\u001B[0m, zˢ=~\u001B[94m(x=2, y=2, z=3)\u001B[0m) do not match given resolution (xˢ=2, yˢ=2, zˢ=2) for extrapolation \u001B[94m1\u001B[0m. See https://tum-pbs.github.io/PhiFlow/Staggered_Grids.html",
     "output_type": "error",
     "traceback": [
      "\u001B[1;31m---------------------------------------------------------------------------\u001B[0m",
      "\u001B[1;31mAssertionError\u001B[0m                            Traceback (most recent call last)",
      "Cell \u001B[1;32mIn[40], line 6\u001B[0m\n\u001B[0;32m      3\u001B[0m vy \u001B[38;5;241m=\u001B[39m tensor(np\u001B[38;5;241m.\u001B[39mzeros((res, res \u001B[38;5;241m+\u001B[39m \u001B[38;5;241m1\u001B[39m, res)), spatial(\u001B[38;5;124m\"\u001B[39m\u001B[38;5;124mx,y,z\u001B[39m\u001B[38;5;124m\"\u001B[39m))\n\u001B[0;32m      4\u001B[0m vz \u001B[38;5;241m=\u001B[39m tensor(np\u001B[38;5;241m.\u001B[39mzeros((res, res, res \u001B[38;5;241m+\u001B[39m \u001B[38;5;241m1\u001B[39m)), spatial(\u001B[38;5;124m\"\u001B[39m\u001B[38;5;124mx,y,z\u001B[39m\u001B[38;5;124m\"\u001B[39m))\n\u001B[1;32m----> 6\u001B[0m velocity \u001B[38;5;241m=\u001B[39m \u001B[43mStaggeredGrid\u001B[49m\u001B[43m(\u001B[49m\u001B[43mvalues\u001B[49m\u001B[38;5;241;43m=\u001B[39;49m\u001B[43mmath\u001B[49m\u001B[38;5;241;43m.\u001B[39;49m\u001B[43mstack\u001B[49m\u001B[43m(\u001B[49m\u001B[43m[\u001B[49m\u001B[43mvx\u001B[49m\u001B[43m,\u001B[49m\u001B[43m \u001B[49m\u001B[43mvy\u001B[49m\u001B[43m,\u001B[49m\u001B[43m \u001B[49m\u001B[43mvz\u001B[49m\u001B[43m]\u001B[49m\u001B[43m,\u001B[49m\u001B[43m \u001B[49m\u001B[43mdual\u001B[49m\u001B[43m(\u001B[49m\u001B[43mvector\u001B[49m\u001B[38;5;241;43m=\u001B[39;49m\u001B[38;5;124;43m'\u001B[39;49m\u001B[38;5;124;43mx,y,z\u001B[39;49m\u001B[38;5;124;43m'\u001B[39;49m\u001B[43m)\u001B[49m\u001B[43m)\u001B[49m\u001B[43m,\u001B[49m\u001B[43m \u001B[49m\u001B[43mbounds\u001B[49m\u001B[38;5;241;43m=\u001B[39;49m\u001B[43mBox\u001B[49m\u001B[43m(\u001B[49m\u001B[43mx\u001B[49m\u001B[38;5;241;43m=\u001B[39;49m\u001B[43m(\u001B[49m\u001B[38;5;241;43m0\u001B[39;49m\u001B[43m,\u001B[49m\u001B[43m \u001B[49m\u001B[38;5;241;43m1\u001B[39;49m\u001B[43m)\u001B[49m\u001B[43m,\u001B[49m\u001B[43m \u001B[49m\u001B[43my\u001B[49m\u001B[38;5;241;43m=\u001B[39;49m\u001B[43m(\u001B[49m\u001B[38;5;241;43m0\u001B[39;49m\u001B[43m,\u001B[49m\u001B[43m \u001B[49m\u001B[38;5;241;43m1\u001B[39;49m\u001B[43m)\u001B[49m\u001B[43m,\u001B[49m\u001B[43m \u001B[49m\u001B[43mz\u001B[49m\u001B[38;5;241;43m=\u001B[39;49m\u001B[43m(\u001B[49m\u001B[38;5;241;43m0\u001B[39;49m\u001B[43m,\u001B[49m\u001B[43m \u001B[49m\u001B[38;5;241;43m1\u001B[39;49m\u001B[43m)\u001B[49m\u001B[43m)\u001B[49m\u001B[43m,\u001B[49m\u001B[43m \u001B[49m\u001B[43mresolution\u001B[49m\u001B[38;5;241;43m=\u001B[39;49m\u001B[43mspatial\u001B[49m\u001B[43m(\u001B[49m\u001B[43mx\u001B[49m\u001B[38;5;241;43m=\u001B[39;49m\u001B[43mres\u001B[49m\u001B[43m,\u001B[49m\u001B[43m \u001B[49m\u001B[43my\u001B[49m\u001B[38;5;241;43m=\u001B[39;49m\u001B[43mres\u001B[49m\u001B[43m,\u001B[49m\u001B[43m \u001B[49m\u001B[43mz\u001B[49m\u001B[38;5;241;43m=\u001B[39;49m\u001B[43mres\u001B[49m\u001B[43m)\u001B[49m\u001B[43m,\u001B[49m\u001B[43m \u001B[49m\u001B[43mextrapolation\u001B[49m\u001B[38;5;241;43m=\u001B[39;49m\u001B[43mphiml\u001B[49m\u001B[38;5;241;43m.\u001B[39;49m\u001B[43mmath\u001B[49m\u001B[38;5;241;43m.\u001B[39;49m\u001B[43mextrapolation\u001B[49m\u001B[38;5;241;43m.\u001B[39;49m\u001B[43mONE\u001B[49m\u001B[43m)\u001B[49m\n\u001B[0;32m      8\u001B[0m \u001B[38;5;66;03m# print(velocity['x'].values.native('x,y,z') == vx)\u001B[39;00m\n\u001B[0;32m      9\u001B[0m \u001B[38;5;66;03m# print(velocity['y'].values.native('x,y,z') == vy)\u001B[39;00m\n\u001B[0;32m     10\u001B[0m \u001B[38;5;66;03m# print(velocity['z'].values.native('x,y,z') == vz)\u001B[39;00m\n\u001B[0;32m     12\u001B[0m np\u001B[38;5;241m.\u001B[39mset_printoptions(threshold\u001B[38;5;241m=\u001B[39mnp\u001B[38;5;241m.\u001B[39minf)\n",
      "File \u001B[1;32m~\\Desktop\\DeepLearningSim\\HinaPE-AI\\venv\\lib\\site-packages\\phi\\field\\_grid.py:156\u001B[0m, in \u001B[0;36mStaggeredGrid\u001B[1;34m(values, boundary, bounds, resolution, extrapolation, convert, **resolution_)\u001B[0m\n\u001B[0;32m    154\u001B[0m             elements \u001B[38;5;241m=\u001B[39m UniformGrid(resolution, bounds)\n\u001B[0;32m    155\u001B[0m         \u001B[38;5;28;01melse\u001B[39;00m:  \u001B[38;5;66;03m# Keep dim order from data and check it matches resolution\u001B[39;00m\n\u001B[1;32m--> 156\u001B[0m             \u001B[38;5;28;01massert\u001B[39;00m \u001B[38;5;28mset\u001B[39m(resolution_from_staggered_tensor(values, extrapolation)) \u001B[38;5;241m==\u001B[39m \u001B[38;5;28mset\u001B[39m(resolution), \u001B[38;5;124mf\u001B[39m\u001B[38;5;124m\"\u001B[39m\u001B[38;5;124mFailed to create StaggeredGrid: values \u001B[39m\u001B[38;5;132;01m{\u001B[39;00mvalues\u001B[38;5;241m.\u001B[39mshape\u001B[38;5;132;01m}\u001B[39;00m\u001B[38;5;124m do not match given resolution \u001B[39m\u001B[38;5;132;01m{\u001B[39;00mresolution\u001B[38;5;132;01m}\u001B[39;00m\u001B[38;5;124m for extrapolation \u001B[39m\u001B[38;5;132;01m{\u001B[39;00mextrapolation\u001B[38;5;132;01m}\u001B[39;00m\u001B[38;5;124m. See https://tum-pbs.github.io/PhiFlow/Staggered_Grids.html\u001B[39m\u001B[38;5;124m\"\u001B[39m\n\u001B[0;32m    157\u001B[0m \u001B[38;5;28;01melif\u001B[39;00m \u001B[38;5;28misinstance\u001B[39m(values, (Geometry, Field, FieldInitializer)):\n\u001B[0;32m    158\u001B[0m     values \u001B[38;5;241m=\u001B[39m sample(values, elements, at\u001B[38;5;241m=\u001B[39m\u001B[38;5;124m'\u001B[39m\u001B[38;5;124mface\u001B[39m\u001B[38;5;124m'\u001B[39m, boundary\u001B[38;5;241m=\u001B[39mextrapolation, dot_face_normal\u001B[38;5;241m=\u001B[39melements)\n",
      "\u001B[1;31mAssertionError\u001B[0m: Failed to create StaggeredGrid: values (~vectorᵈ=x,y,z, xˢ=~\u001B[94m(x=3, y=2, z=2)\u001B[0m, yˢ=~\u001B[94m(x=2, y=3, z=2)\u001B[0m, zˢ=~\u001B[94m(x=2, y=2, z=3)\u001B[0m) do not match given resolution (xˢ=2, yˢ=2, zˢ=2) for extrapolation \u001B[94m1\u001B[0m. See https://tum-pbs.github.io/PhiFlow/Staggered_Grids.html"
     ]
    }
   ],
   "execution_count": 40
  },
  {
   "metadata": {
    "ExecuteTime": {
     "end_time": "2024-08-07T06:20:47.234918Z",
     "start_time": "2024-08-07T06:20:42.630513Z"
    }
   },
   "cell_type": "code",
   "source": [
    "\n",
    "# >>> This file is auto generated by HinaFlow <<<\n",
    "\n",
    "\n",
    "from phi.torch.flow import *\n",
    "\n",
    "\n",
    "center = (0.000000, 0.000000, 0.000000)\n",
    "size = (1.000000, 1.000000, 1.000000)\n",
    "res = (100, 100, 100)\n",
    "DENSITY = CenteredGrid(values=0, boundary=extrapolation.ZERO_GRADIENT, bounds=Box(x=(-size[0]/2.0 + center[0], size[0]/2.0 + center[0]), y=(-size[1]/2.0 + center[1], size[1]/2.0 + center[1]), z=(-size[2]/2.0 + center[2], size[2]/2.0 + center[2])), resolution=spatial(x=res[0], y=res[1], z=res[2]))\n",
    "\n",
    "\n",
    "center = (0.000000, 0.000000, 0.000000)\n",
    "size = (1.000000, 1.000000, 1.000000)\n",
    "res = (100, 100, 100)\n",
    "VELOCITY = StaggeredGrid(values=0, boundary=extrapolation.ZERO_GRADIENT, bounds=Box(x=(-size[0]/2.0 + center[0], size[0]/2.0 + center[0]), y=(-size[1]/2.0 + center[1], size[1]/2.0 + center[1]), z=(-size[2]/2.0 + center[2], size[2]/2.0 + center[2])), resolution=spatial(x=res[0], y=res[1], z=res[2]))\n",
    "\n",
    "\n",
    "INFLOW = resample(Sphere(x=0.000000, y=0.000000, z=0.000000, radius=0.100000), to=DENSITY, soft=True)\n",
    "\n",
    "\n",
    "@jit_compile  # Only for PyTorch, TensorFlow and Jax\n",
    "def step(v, s, p, src, dt=0.041667):\n",
    "    s = advect.mac_cormack(s, v, dt) + src\n",
    "    buoyancy = resample(s * (0, 0.1, 0), to=v)\n",
    "    v = advect.semi_lagrangian(v, v, dt) + buoyancy * dt\n",
    "    v, p = fluid.make_incompressible(v, (), Solve('auto', 1e-2, x0=p))\n",
    "    return v, s, p\n",
    "\n",
    "\n",
    "VELOCITY, DENSITY, PRESSURE = step(VELOCITY, DENSITY, None, INFLOW)\n",
    "\n"
   ],
   "id": "3a8338e92bbc5b5d",
   "outputs": [],
   "execution_count": 18
  }
 ],
 "metadata": {
  "kernelspec": {
   "display_name": "Python 3",
   "language": "python",
   "name": "python3"
  },
  "language_info": {
   "codemirror_mode": {
    "name": "ipython",
    "version": 2
   },
   "file_extension": ".py",
   "mimetype": "text/x-python",
   "name": "python",
   "nbconvert_exporter": "python",
   "pygments_lexer": "ipython2",
   "version": "2.7.6"
  }
 },
 "nbformat": 4,
 "nbformat_minor": 5
}
