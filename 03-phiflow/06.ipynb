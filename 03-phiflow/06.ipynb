{
 "cells": [
  {
   "cell_type": "code",
   "id": "initial_id",
   "metadata": {
    "collapsed": true,
    "ExecuteTime": {
     "end_time": "2024-08-07T14:28:41.892439Z",
     "start_time": "2024-08-07T14:28:41.883194Z"
    }
   },
   "source": [
    "import phi.torch.flow as pf\n",
    "import numpy as np"
   ],
   "outputs": [],
   "execution_count": 4
  },
  {
   "metadata": {
    "ExecuteTime": {
     "end_time": "2024-08-07T14:41:41.125940Z",
     "start_time": "2024-08-07T14:41:41.110714Z"
    }
   },
   "cell_type": "code",
   "source": [
    "N = 128\n",
    "DX = 2./N\n",
    "STEPS = 32\n",
    "DT = 1./STEPS\n",
    "NU = 0.01/(N*np.pi)\n",
    "\n",
    "INITIAL_NUMPY = np.asarray( [-np.sin(np.pi * x) for x in np.linspace(-1+DX/2,1-DX/2,N)] )\n",
    "INITIAL = pf.math.tensor(INITIAL_NUMPY, pf.spatial('x') ) # convert to phiflow tensor\n",
    "\n",
    "INITIAL"
   ],
   "id": "bcfcdc93deb0dc87",
   "outputs": [
    {
     "data": {
      "text/plain": [
       "\u001B[92m(xˢ=128)\u001B[0m \u001B[94m0.00e+00 ± 7.1e-01\u001B[0m \u001B[37m(-1e+00...1e+00)\u001B[0m"
      ]
     },
     "execution_count": 13,
     "metadata": {},
     "output_type": "execute_result"
    }
   ],
   "execution_count": 13
  }
 ],
 "metadata": {
  "kernelspec": {
   "display_name": "Python 3",
   "language": "python",
   "name": "python3"
  },
  "language_info": {
   "codemirror_mode": {
    "name": "ipython",
    "version": 2
   },
   "file_extension": ".py",
   "mimetype": "text/x-python",
   "name": "python",
   "nbconvert_exporter": "python",
   "pygments_lexer": "ipython2",
   "version": "2.7.6"
  }
 },
 "nbformat": 4,
 "nbformat_minor": 5
}
