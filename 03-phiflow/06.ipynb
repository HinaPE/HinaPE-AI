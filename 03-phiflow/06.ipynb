{
 "cells": [
  {
   "cell_type": "code",
   "id": "initial_id",
   "metadata": {
    "collapsed": true,
    "ExecuteTime": {
     "end_time": "2024-08-07T14:28:41.892439Z",
     "start_time": "2024-08-07T14:28:41.883194Z"
    }
   },
   "source": [
    "import phi.torch.flow as pf\n",
    "import numpy as np"
   ],
   "outputs": [],
   "execution_count": 4
  },
  {
   "metadata": {
    "ExecuteTime": {
     "end_time": "2024-08-07T14:41:41.125940Z",
     "start_time": "2024-08-07T14:41:41.110714Z"
    }
   },
   "cell_type": "code",
   "source": [
    "N = 128\n",
    "DX = 2. / N\n",
    "STEPS = 32\n",
    "DT = 1. / STEPS\n",
    "NU = 0.01 / (N * np.pi)\n",
    "\n",
    "INITIAL_NUMPY = np.asarray([-np.sin(np.pi * x) for x in np.linspace(-1 + DX / 2, 1 - DX / 2, N)])\n",
    "INITIAL = pf.math.tensor(INITIAL_NUMPY, pf.spatial('x'))  # convert to phiflow tensor\n",
    "\n",
    "INITIAL"
   ],
   "id": "bcfcdc93deb0dc87",
   "outputs": [
    {
     "data": {
      "text/plain": [
       "\u001B[92m(xˢ=128)\u001B[0m \u001B[94m0.00e+00 ± 7.1e-01\u001B[0m \u001B[37m(-1e+00...1e+00)\u001B[0m"
      ]
     },
     "execution_count": 13,
     "metadata": {},
     "output_type": "execute_result"
    }
   ],
   "execution_count": 13
  },
  {
   "metadata": {
    "ExecuteTime": {
     "end_time": "2024-08-09T07:41:52.590114Z",
     "start_time": "2024-08-09T07:41:52.514421Z"
    }
   },
   "cell_type": "code",
   "source": [
    "from phi.torch.flow import *\n",
    "\n",
    "SOURCE = CenteredGrid(values=0, boundary=extrapolation.ZERO_GRADIENT, bounds=Box(x=1, y=5, z=1), resolution=spatial(x=10, y=10, z=10))\n",
    "TARGET = CenteredGrid(values=0, boundary=extrapolation.ZERO_GRADIENT, bounds=Box(x=2, y=2, z=2), resolution=spatial(x=20, y=20, z=20))\n",
    "\n",
    "TARGET = resample(value=SOURCE, to=TARGET, soft=True)\n",
    "TARGET"
   ],
   "id": "11eb00c13b729894",
   "outputs": [
    {
     "ename": "TypeError",
     "evalue": "sample_grid_at_centers() got an unexpected keyword argument 'soft'",
     "output_type": "error",
     "traceback": [
      "\u001B[1;31m---------------------------------------------------------------------------\u001B[0m",
      "\u001B[1;31mTypeError\u001B[0m                                 Traceback (most recent call last)",
      "Cell \u001B[1;32mIn[7], line 6\u001B[0m\n\u001B[0;32m      3\u001B[0m SOURCE \u001B[38;5;241m=\u001B[39m CenteredGrid(values\u001B[38;5;241m=\u001B[39m\u001B[38;5;241m0\u001B[39m, boundary\u001B[38;5;241m=\u001B[39mextrapolation\u001B[38;5;241m.\u001B[39mZERO_GRADIENT, bounds\u001B[38;5;241m=\u001B[39mBox(x\u001B[38;5;241m=\u001B[39m\u001B[38;5;241m1\u001B[39m, y\u001B[38;5;241m=\u001B[39m\u001B[38;5;241m5\u001B[39m, z\u001B[38;5;241m=\u001B[39m\u001B[38;5;241m1\u001B[39m), resolution\u001B[38;5;241m=\u001B[39mspatial(x\u001B[38;5;241m=\u001B[39m\u001B[38;5;241m10\u001B[39m, y\u001B[38;5;241m=\u001B[39m\u001B[38;5;241m10\u001B[39m, z\u001B[38;5;241m=\u001B[39m\u001B[38;5;241m10\u001B[39m))\n\u001B[0;32m      4\u001B[0m TARGET \u001B[38;5;241m=\u001B[39m CenteredGrid(values\u001B[38;5;241m=\u001B[39m\u001B[38;5;241m0\u001B[39m, boundary\u001B[38;5;241m=\u001B[39mextrapolation\u001B[38;5;241m.\u001B[39mZERO_GRADIENT, bounds\u001B[38;5;241m=\u001B[39mBox(x\u001B[38;5;241m=\u001B[39m\u001B[38;5;241m2\u001B[39m, y\u001B[38;5;241m=\u001B[39m\u001B[38;5;241m2\u001B[39m, z\u001B[38;5;241m=\u001B[39m\u001B[38;5;241m2\u001B[39m), resolution\u001B[38;5;241m=\u001B[39mspatial(x\u001B[38;5;241m=\u001B[39m\u001B[38;5;241m20\u001B[39m, y\u001B[38;5;241m=\u001B[39m\u001B[38;5;241m20\u001B[39m, z\u001B[38;5;241m=\u001B[39m\u001B[38;5;241m20\u001B[39m))\n\u001B[1;32m----> 6\u001B[0m TARGET \u001B[38;5;241m=\u001B[39m \u001B[43mresample\u001B[49m\u001B[43m(\u001B[49m\u001B[43mvalue\u001B[49m\u001B[38;5;241;43m=\u001B[39;49m\u001B[43mSOURCE\u001B[49m\u001B[43m,\u001B[49m\u001B[43m \u001B[49m\u001B[43mto\u001B[49m\u001B[38;5;241;43m=\u001B[39;49m\u001B[43mTARGET\u001B[49m\u001B[43m,\u001B[49m\u001B[43m \u001B[49m\u001B[43msoft\u001B[49m\u001B[38;5;241;43m=\u001B[39;49m\u001B[38;5;28;43;01mTrue\u001B[39;49;00m\u001B[43m)\u001B[49m\n\u001B[0;32m      7\u001B[0m TARGET\n",
      "File \u001B[1;32m~\\AppData\\Roaming\\Python\\Python311\\site-packages\\phi\\field\\_resample.py:60\u001B[0m, in \u001B[0;36mresample\u001B[1;34m(value, to, keep_boundary, **kwargs)\u001B[0m\n\u001B[0;32m     58\u001B[0m \u001B[38;5;28;01melse\u001B[39;00m:\n\u001B[0;32m     59\u001B[0m     \u001B[38;5;28;01mraise\u001B[39;00m \u001B[38;5;167;01mAssertionError\u001B[39;00m(\u001B[38;5;124mf\u001B[39m\u001B[38;5;124m\"\u001B[39m\u001B[38;5;124mBoundary cannot be determined, keep_boundary=\u001B[39m\u001B[38;5;132;01m{\u001B[39;00mkeep_boundary\u001B[38;5;132;01m}\u001B[39;00m\u001B[38;5;124m, value: \u001B[39m\u001B[38;5;132;01m{\u001B[39;00m\u001B[38;5;28mtype\u001B[39m(value)\u001B[38;5;132;01m}\u001B[39;00m\u001B[38;5;124m, to: \u001B[39m\u001B[38;5;132;01m{\u001B[39;00m\u001B[38;5;28mtype\u001B[39m(to)\u001B[38;5;132;01m}\u001B[39;00m\u001B[38;5;124m\"\u001B[39m)\n\u001B[1;32m---> 60\u001B[0m resampled \u001B[38;5;241m=\u001B[39m \u001B[43msample\u001B[49m\u001B[43m(\u001B[49m\u001B[43mvalue\u001B[49m\u001B[43m,\u001B[49m\u001B[43m \u001B[49m\u001B[43mto\u001B[49m\u001B[43m,\u001B[49m\u001B[43m \u001B[49m\u001B[43mat\u001B[49m\u001B[38;5;241;43m=\u001B[39;49m\u001B[43mto\u001B[49m\u001B[38;5;241;43m.\u001B[39;49m\u001B[43msampled_at\u001B[49m\u001B[43m \u001B[49m\u001B[38;5;28;43;01mif\u001B[39;49;00m\u001B[43m \u001B[49m\u001B[38;5;28;43misinstance\u001B[39;49m\u001B[43m(\u001B[49m\u001B[43mto\u001B[49m\u001B[43m,\u001B[49m\u001B[43m \u001B[49m\u001B[43mField\u001B[49m\u001B[43m)\u001B[49m\u001B[43m \u001B[49m\u001B[38;5;28;43;01melse\u001B[39;49;00m\u001B[43m \u001B[49m\u001B[38;5;124;43m'\u001B[39;49m\u001B[38;5;124;43mcenter\u001B[39;49m\u001B[38;5;124;43m'\u001B[39;49m\u001B[43m,\u001B[49m\u001B[43m \u001B[49m\u001B[43mboundary\u001B[49m\u001B[38;5;241;43m=\u001B[39;49m\u001B[43mextrap\u001B[49m\u001B[43m,\u001B[49m\u001B[43m \u001B[49m\u001B[43mdot_face_normal\u001B[49m\u001B[38;5;241;43m=\u001B[39;49m\u001B[43mto\u001B[49m\u001B[38;5;241;43m.\u001B[39;49m\u001B[43mgeometry\u001B[49m\u001B[43m,\u001B[49m\u001B[43m \u001B[49m\u001B[38;5;241;43m*\u001B[39;49m\u001B[38;5;241;43m*\u001B[39;49m\u001B[43mkwargs\u001B[49m\u001B[43m)\u001B[49m\n\u001B[0;32m     61\u001B[0m \u001B[38;5;28;01mreturn\u001B[39;00m Field(to\u001B[38;5;241m.\u001B[39mgeometry \u001B[38;5;28;01mif\u001B[39;00m \u001B[38;5;28misinstance\u001B[39m(to, Field) \u001B[38;5;28;01melse\u001B[39;00m to, resampled, extrap)\n",
      "File \u001B[1;32m~\\AppData\\Roaming\\Python\\Python311\\site-packages\\phi\\field\\_resample.py:134\u001B[0m, in \u001B[0;36msample\u001B[1;34m(field, geometry, at, boundary, dot_face_normal, **kwargs)\u001B[0m\n\u001B[0;32m    132\u001B[0m     \u001B[38;5;28;01mreturn\u001B[39;00m field\u001B[38;5;241m.\u001B[39mvalues\n\u001B[0;32m    133\u001B[0m \u001B[38;5;28;01mif\u001B[39;00m field\u001B[38;5;241m.\u001B[39mis_grid \u001B[38;5;129;01mand\u001B[39;00m \u001B[38;5;129;01mnot\u001B[39;00m field\u001B[38;5;241m.\u001B[39mis_staggered:\n\u001B[1;32m--> 134\u001B[0m     \u001B[38;5;28;01mreturn\u001B[39;00m \u001B[43msample_grid_at_centers\u001B[49m\u001B[43m(\u001B[49m\u001B[43mfield\u001B[49m\u001B[43m,\u001B[49m\u001B[43m \u001B[49m\u001B[43mgeometry\u001B[49m\u001B[43m,\u001B[49m\u001B[43m \u001B[49m\u001B[38;5;241;43m*\u001B[39;49m\u001B[38;5;241;43m*\u001B[39;49m\u001B[43mkwargs\u001B[49m\u001B[43m)\u001B[49m\n\u001B[0;32m    135\u001B[0m \u001B[38;5;28;01melif\u001B[39;00m field\u001B[38;5;241m.\u001B[39mis_grid \u001B[38;5;129;01mand\u001B[39;00m field\u001B[38;5;241m.\u001B[39mis_staggered:\n\u001B[0;32m    136\u001B[0m     \u001B[38;5;28;01mreturn\u001B[39;00m sample_staggered_grid(field, geometry, \u001B[38;5;241m*\u001B[39m\u001B[38;5;241m*\u001B[39mkwargs)\n",
      "\u001B[1;31mTypeError\u001B[0m: sample_grid_at_centers() got an unexpected keyword argument 'soft'"
     ]
    }
   ],
   "execution_count": 7
  },
  {
   "metadata": {
    "ExecuteTime": {
     "end_time": "2024-08-09T08:18:54.746386Z",
     "start_time": "2024-08-09T08:18:49.909180Z"
    }
   },
   "cell_type": "code",
   "source": [
    "import cv2\n",
    "\n",
    "img = cv2.imread(\"./taichi.png\")\n",
    "cv2.imshow(\"image\", img)\n",
    "cv2.waitKey(0)\n",
    "cv2.destroyAllWindows()"
   ],
   "id": "98bb2d6af444a1b7",
   "outputs": [],
   "execution_count": 1
  }
 ],
 "metadata": {
  "kernelspec": {
   "display_name": "Python 3",
   "language": "python",
   "name": "python3"
  },
  "language_info": {
   "codemirror_mode": {
    "name": "ipython",
    "version": 2
   },
   "file_extension": ".py",
   "mimetype": "text/x-python",
   "name": "python",
   "nbconvert_exporter": "python",
   "pygments_lexer": "ipython2",
   "version": "2.7.6"
  }
 },
 "nbformat": 4,
 "nbformat_minor": 5
}
