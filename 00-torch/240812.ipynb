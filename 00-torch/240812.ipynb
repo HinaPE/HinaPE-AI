{
 "cells": [
  {
   "cell_type": "markdown",
   "id": "4e76f87bf3174c67",
   "metadata": {},
   "source": "## Tensor"
  },
  {
   "metadata": {
    "ExecuteTime": {
     "end_time": "2024-10-08T15:00:15.459839Z",
     "start_time": "2024-10-08T15:00:12.226349Z"
    }
   },
   "cell_type": "code",
   "source": [
    "import torch\n",
    "import numpy as np"
   ],
   "id": "46635a64a5647f79",
   "outputs": [],
   "execution_count": 1
  },
  {
   "cell_type": "markdown",
   "id": "9e82c665de47ac93",
   "metadata": {},
   "source": [
    "### build from native array"
   ]
  },
  {
   "cell_type": "code",
   "id": "bb1b0fffcfb91c09",
   "metadata": {
    "ExecuteTime": {
     "end_time": "2024-10-08T15:00:15.500676Z",
     "start_time": "2024-10-08T15:00:15.491845Z"
    }
   },
   "source": [
    "data = [[1, 2], [3, 4]]\n",
    "x_data = torch.tensor(data)\n",
    "print(f\"Tensor from array: \\n {x_data} \\n\")"
   ],
   "outputs": [
    {
     "name": "stdout",
     "output_type": "stream",
     "text": [
      "Tensor from array: \n",
      " tensor([[1, 2],\n",
      "        [3, 4]]) \n",
      "\n"
     ]
    }
   ],
   "execution_count": 2
  },
  {
   "cell_type": "markdown",
   "id": "c31de0d3d0b5d7a5",
   "metadata": {},
   "source": [
    "### build from numpy array"
   ]
  },
  {
   "cell_type": "code",
   "id": "8df06992f38f4bc1",
   "metadata": {
    "ExecuteTime": {
     "end_time": "2024-10-08T15:00:16.377779Z",
     "start_time": "2024-10-08T15:00:16.372095Z"
    }
   },
   "source": [
    "np_array = np.array(data)\n",
    "x_np = torch.from_numpy(np_array)\n",
    "print(f\"Tensor from numpy: \\n {x_np} \\n\")"
   ],
   "outputs": [
    {
     "name": "stdout",
     "output_type": "stream",
     "text": [
      "Tensor from numpy: \n",
      " tensor([[1, 2],\n",
      "        [3, 4]], dtype=torch.int32) \n",
      "\n"
     ]
    }
   ],
   "execution_count": 3
  },
  {
   "cell_type": "markdown",
   "id": "43b743744245fac5",
   "metadata": {},
   "source": [
    "### build from another tensor"
   ]
  },
  {
   "cell_type": "code",
   "id": "86b67a0b6b917be2",
   "metadata": {
    "ExecuteTime": {
     "end_time": "2024-10-08T15:00:16.642766Z",
     "start_time": "2024-10-08T15:00:16.631504Z"
    }
   },
   "source": [
    "x_ones = torch.ones_like(x_data)\n",
    "x_rand = torch.rand_like(x_data, dtype=torch.float)\n",
    "print(f\"Ones Tensor: \\n {x_ones} \\n\")\n",
    "print(f\"Random Tensor: \\n {x_rand} \\n\")"
   ],
   "outputs": [
    {
     "name": "stdout",
     "output_type": "stream",
     "text": [
      "Ones Tensor: \n",
      " tensor([[1, 1],\n",
      "        [1, 1]]) \n",
      "\n",
      "Random Tensor: \n",
      " tensor([[0.3846, 0.9818],\n",
      "        [0.9573, 0.9203]]) \n",
      "\n"
     ]
    }
   ],
   "execution_count": 4
  },
  {
   "cell_type": "markdown",
   "id": "5985cedcf9f43a38",
   "metadata": {},
   "source": [
    "### build from shape"
   ]
  },
  {
   "cell_type": "code",
   "id": "1139c98e838b8f50",
   "metadata": {
    "ExecuteTime": {
     "end_time": "2024-10-08T15:00:16.886103Z",
     "start_time": "2024-10-08T15:00:16.878038Z"
    }
   },
   "source": [
    "shape = (2, 3,)\n",
    "rand_tensor = torch.rand(shape)\n",
    "ones_tensor = torch.ones(shape)\n",
    "zeros_tensor = torch.zeros(shape)\n",
    "print(f\"Random Tensor: \\n {rand_tensor} \\n\")\n",
    "print(f\"Ones Tensor: \\n {ones_tensor} \\n\")\n",
    "print(f\"Zeros Tensor: \\n {zeros_tensor}\")"
   ],
   "outputs": [
    {
     "name": "stdout",
     "output_type": "stream",
     "text": [
      "Random Tensor: \n",
      " tensor([[0.0918, 0.9601, 0.4267],\n",
      "        [0.5385, 0.9396, 0.1587]]) \n",
      "\n",
      "Ones Tensor: \n",
      " tensor([[1., 1., 1.],\n",
      "        [1., 1., 1.]]) \n",
      "\n",
      "Zeros Tensor: \n",
      " tensor([[0., 0., 0.],\n",
      "        [0., 0., 0.]])\n"
     ]
    }
   ],
   "execution_count": 5
  },
  {
   "cell_type": "markdown",
   "id": "9971c51d4e598dbc",
   "metadata": {},
   "source": [
    "## Tensor Attributes"
   ]
  },
  {
   "cell_type": "code",
   "id": "3d0312d44409705a",
   "metadata": {
    "ExecuteTime": {
     "end_time": "2024-10-08T15:00:17.117621Z",
     "start_time": "2024-10-08T15:00:17.113100Z"
    }
   },
   "source": [
    "tensor = torch.rand(3, 4)\n",
    "print(f\"Shape of tensor: {tensor.shape}\")\n",
    "print(f\"Datatype of tensor: {tensor.dtype}\")\n",
    "print(f\"Device tensor is stored on: {tensor.device}\")"
   ],
   "outputs": [
    {
     "name": "stdout",
     "output_type": "stream",
     "text": [
      "Shape of tensor: torch.Size([3, 4])\n",
      "Datatype of tensor: torch.float32\n",
      "Device tensor is stored on: cpu\n"
     ]
    }
   ],
   "execution_count": 6
  },
  {
   "cell_type": "markdown",
   "id": "bd3d79a755ecf39a",
   "metadata": {},
   "source": [
    "## Tensor Operations"
   ]
  },
  {
   "cell_type": "markdown",
   "id": "61a2937a0926d631",
   "metadata": {},
   "source": [
    "### device change"
   ]
  },
  {
   "cell_type": "code",
   "id": "acdd861bff02ff4f",
   "metadata": {
    "ExecuteTime": {
     "end_time": "2024-10-08T15:00:17.455019Z",
     "start_time": "2024-10-08T15:00:17.267326Z"
    }
   },
   "source": [
    "tensor = torch.rand(3, 4)\n",
    "if torch.cuda.is_available():\n",
    "    tensor = tensor.to(\"cuda\")\n",
    "print(f\"Shape of tensor: {tensor.shape}\")\n",
    "print(f\"Datatype of tensor: {tensor.dtype}\")\n",
    "print(f\"Device tensor is stored on: {tensor.device}\")"
   ],
   "outputs": [
    {
     "name": "stdout",
     "output_type": "stream",
     "text": [
      "Shape of tensor: torch.Size([3, 4])\n",
      "Datatype of tensor: torch.float32\n",
      "Device tensor is stored on: cuda:0\n"
     ]
    }
   ],
   "execution_count": 7
  },
  {
   "cell_type": "markdown",
   "id": "dbbd29acd3ca3285",
   "metadata": {},
   "source": [
    "### indexing and slicing"
   ]
  },
  {
   "cell_type": "code",
   "id": "3d0a75ed01bb86c1",
   "metadata": {
    "ExecuteTime": {
     "end_time": "2024-10-08T15:00:17.626904Z",
     "start_time": "2024-10-08T15:00:17.620109Z"
    }
   },
   "source": [
    "tensor = torch.ones(4, 4)\n",
    "print(f\"First row: {tensor[0]}\")\n",
    "print(f\"First column: {tensor[:, 0]}\")\n",
    "print(f\"Last column: {tensor[..., -1]}\")\n",
    "tensor[:, 1] = 0\n",
    "print(tensor)"
   ],
   "outputs": [
    {
     "name": "stdout",
     "output_type": "stream",
     "text": [
      "First row: tensor([1., 1., 1., 1.])\n",
      "First column: tensor([1., 1., 1., 1.])\n",
      "Last column: tensor([1., 1., 1., 1.])\n",
      "tensor([[1., 0., 1., 1.],\n",
      "        [1., 0., 1., 1.],\n",
      "        [1., 0., 1., 1.],\n",
      "        [1., 0., 1., 1.]])\n"
     ]
    }
   ],
   "execution_count": 8
  },
  {
   "cell_type": "markdown",
   "id": "af561cb9472f9bbf",
   "metadata": {},
   "source": [
    "### joining tensors"
   ]
  },
  {
   "cell_type": "code",
   "id": "813a4b398acbfe4c",
   "metadata": {
    "ExecuteTime": {
     "end_time": "2024-10-08T15:00:17.778140Z",
     "start_time": "2024-10-08T15:00:17.771862Z"
    }
   },
   "source": [
    "tensor = torch.ones(4, 4)\n",
    "t1 = torch.cat([tensor, tensor, tensor], dim=1)\n",
    "print(t1)"
   ],
   "outputs": [
    {
     "name": "stdout",
     "output_type": "stream",
     "text": [
      "tensor([[1., 1., 1., 1., 1., 1., 1., 1., 1., 1., 1., 1.],\n",
      "        [1., 1., 1., 1., 1., 1., 1., 1., 1., 1., 1., 1.],\n",
      "        [1., 1., 1., 1., 1., 1., 1., 1., 1., 1., 1., 1.],\n",
      "        [1., 1., 1., 1., 1., 1., 1., 1., 1., 1., 1., 1.]])\n"
     ]
    }
   ],
   "execution_count": 9
  },
  {
   "cell_type": "markdown",
   "id": "6fbbfcd781063e54",
   "metadata": {},
   "source": [
    "### arithmetic operations"
   ]
  },
  {
   "cell_type": "code",
   "id": "836bb5cbcc83bec6",
   "metadata": {
    "ExecuteTime": {
     "end_time": "2024-10-08T15:00:17.942079Z",
     "start_time": "2024-10-08T15:00:17.928820Z"
    }
   },
   "source": [
    "# This computes the matrix multiplication between two tensors. y1, y2, y3 will have the same value\n",
    "# ``tensor.T`` returns the transpose of a tensor\n",
    "tensor = torch.ones(4, 4)\n",
    "y1 = tensor @ tensor.T\n",
    "print(f\"y1: \\n {y1} \\n\")\n",
    "y2 = tensor.matmul(tensor.T)\n",
    "print(f\"y2: \\n {y2} \\n\")\n",
    "\n",
    "y3 = torch.rand_like(y1)\n",
    "torch.matmul(tensor, tensor.T, out=y3)\n",
    "print(f\"y3: \\n {y3} \\n\")\n",
    "\n",
    "# This computes the element-wise product. z1, z2, z3 will have the same value\n",
    "z1 = tensor * tensor\n",
    "print(f\"z1: \\n {z1} \\n\")\n",
    "z2 = tensor.mul(tensor)\n",
    "print(f\"z2: \\n {z2} \\n\")\n",
    "\n",
    "z3 = torch.rand_like(tensor)\n",
    "torch.mul(tensor, tensor, out=z3)\n",
    "print(f\"z3: \\n {z3} \\n\")"
   ],
   "outputs": [
    {
     "name": "stdout",
     "output_type": "stream",
     "text": [
      "y1: \n",
      " tensor([[4., 4., 4., 4.],\n",
      "        [4., 4., 4., 4.],\n",
      "        [4., 4., 4., 4.],\n",
      "        [4., 4., 4., 4.]]) \n",
      "\n",
      "y2: \n",
      " tensor([[4., 4., 4., 4.],\n",
      "        [4., 4., 4., 4.],\n",
      "        [4., 4., 4., 4.],\n",
      "        [4., 4., 4., 4.]]) \n",
      "\n",
      "y3: \n",
      " tensor([[4., 4., 4., 4.],\n",
      "        [4., 4., 4., 4.],\n",
      "        [4., 4., 4., 4.],\n",
      "        [4., 4., 4., 4.]]) \n",
      "\n",
      "z1: \n",
      " tensor([[1., 1., 1., 1.],\n",
      "        [1., 1., 1., 1.],\n",
      "        [1., 1., 1., 1.],\n",
      "        [1., 1., 1., 1.]]) \n",
      "\n",
      "z2: \n",
      " tensor([[1., 1., 1., 1.],\n",
      "        [1., 1., 1., 1.],\n",
      "        [1., 1., 1., 1.],\n",
      "        [1., 1., 1., 1.]]) \n",
      "\n",
      "z3: \n",
      " tensor([[1., 1., 1., 1.],\n",
      "        [1., 1., 1., 1.],\n",
      "        [1., 1., 1., 1.],\n",
      "        [1., 1., 1., 1.]]) \n",
      "\n"
     ]
    }
   ],
   "execution_count": 10
  },
  {
   "cell_type": "markdown",
   "id": "d8087921e0023dcd",
   "metadata": {},
   "source": [
    "### single-element tensors"
   ]
  },
  {
   "cell_type": "code",
   "id": "6b2847d01d1e71c9",
   "metadata": {
    "ExecuteTime": {
     "end_time": "2024-10-08T15:00:18.024466Z",
     "start_time": "2024-10-08T15:00:18.020088Z"
    }
   },
   "source": [
    "tensor = torch.ones(4, 4)\n",
    "agg = tensor.sum()\n",
    "agg_item = agg.item()\n",
    "print(agg_item, type(agg_item))"
   ],
   "outputs": [
    {
     "name": "stdout",
     "output_type": "stream",
     "text": [
      "16.0 <class 'float'>\n"
     ]
    }
   ],
   "execution_count": 11
  },
  {
   "cell_type": "markdown",
   "id": "d8fbb6d70d0621bf",
   "metadata": {},
   "source": [
    "### in-place operations"
   ]
  },
  {
   "cell_type": "code",
   "id": "b69003327ef390d2",
   "metadata": {
    "ExecuteTime": {
     "end_time": "2024-10-08T15:00:18.719940Z",
     "start_time": "2024-10-08T15:00:18.712409Z"
    }
   },
   "source": [
    "tensor = torch.ones(4, 4)\n",
    "print(f\"{tensor} \\n\")\n",
    "tensor.add_(5)\n",
    "print(tensor)"
   ],
   "outputs": [
    {
     "name": "stdout",
     "output_type": "stream",
     "text": [
      "tensor([[1., 1., 1., 1.],\n",
      "        [1., 1., 1., 1.],\n",
      "        [1., 1., 1., 1.],\n",
      "        [1., 1., 1., 1.]]) \n",
      "\n",
      "tensor([[6., 6., 6., 6.],\n",
      "        [6., 6., 6., 6.],\n",
      "        [6., 6., 6., 6.],\n",
      "        [6., 6., 6., 6.]])\n"
     ]
    }
   ],
   "execution_count": 12
  },
  {
   "metadata": {},
   "cell_type": "markdown",
   "source": "### with numpy",
   "id": "6b349512dfa6ae93"
  },
  {
   "metadata": {
    "ExecuteTime": {
     "end_time": "2024-10-08T15:00:18.828590Z",
     "start_time": "2024-10-08T15:00:18.822254Z"
    }
   },
   "cell_type": "code",
   "source": [
    "t = torch.ones(5)\n",
    "print(f\"t: {t}\")\n",
    "n = t.numpy()\n",
    "print(f\"n: {n}\")"
   ],
   "id": "b5013ef9351c9f55",
   "outputs": [
    {
     "name": "stdout",
     "output_type": "stream",
     "text": [
      "t: tensor([1., 1., 1., 1., 1.])\n",
      "n: [1. 1. 1. 1. 1.]\n"
     ]
    }
   ],
   "execution_count": 13
  },
  {
   "metadata": {},
   "cell_type": "markdown",
   "source": "### a change in the tensor reflects in the NumPy array",
   "id": "ef10db7bf1d0161f"
  },
  {
   "metadata": {
    "ExecuteTime": {
     "end_time": "2024-10-08T15:00:19.020264Z",
     "start_time": "2024-10-08T15:00:19.015129Z"
    }
   },
   "cell_type": "code",
   "source": [
    "t = torch.ones(5)\n",
    "n = t.numpy()\n",
    "t.add_(1)\n",
    "print(f\"t: {t}\")\n",
    "print(f\"n: {n}\")"
   ],
   "id": "f7183156750f54c1",
   "outputs": [
    {
     "name": "stdout",
     "output_type": "stream",
     "text": [
      "t: tensor([2., 2., 2., 2., 2.])\n",
      "n: [2. 2. 2. 2. 2.]\n"
     ]
    }
   ],
   "execution_count": 14
  },
  {
   "metadata": {},
   "cell_type": "markdown",
   "source": "### a change in the NumPy array reflects in the tensor",
   "id": "72ea1e5dbc195"
  },
  {
   "metadata": {
    "ExecuteTime": {
     "end_time": "2024-10-08T15:00:19.217512Z",
     "start_time": "2024-10-08T15:00:19.211462Z"
    }
   },
   "cell_type": "code",
   "source": [
    "n = np.ones(5)\n",
    "t = torch.from_numpy(n)\n",
    "np.add(n, 1, out=n)\n",
    "print(f\"t: {t}\")\n",
    "print(f\"n: {n}\")"
   ],
   "id": "d5c14e5b47553718",
   "outputs": [
    {
     "name": "stdout",
     "output_type": "stream",
     "text": [
      "t: tensor([2., 2., 2., 2., 2.], dtype=torch.float64)\n",
      "n: [2. 2. 2. 2. 2.]\n"
     ]
    }
   ],
   "execution_count": 15
  },
  {
   "metadata": {},
   "cell_type": "markdown",
   "source": "## Datasets & DataLoaders",
   "id": "ac29e7797d1fd0f9"
  },
  {
   "metadata": {
    "ExecuteTime": {
     "end_time": "2024-10-08T15:00:20.211760Z",
     "start_time": "2024-10-08T15:00:19.416128Z"
    }
   },
   "cell_type": "code",
   "source": [
    "import torch\n",
    "from torch.utils.data import Dataset\n",
    "from torchvision import datasets\n",
    "from torchvision.transforms import ToTensor\n",
    "import matplotlib.pyplot as plt"
   ],
   "id": "797b479bbe5d3319",
   "outputs": [
    {
     "ename": "ImportError",
     "evalue": "DLL load failed while importing _imaging: The specified module could not be found.",
     "output_type": "error",
     "traceback": [
      "\u001B[1;31m---------------------------------------------------------------------------\u001B[0m",
      "\u001B[1;31mImportError\u001B[0m                               Traceback (most recent call last)",
      "Cell \u001B[1;32mIn[16], line 3\u001B[0m\n\u001B[0;32m      1\u001B[0m \u001B[38;5;28;01mimport\u001B[39;00m \u001B[38;5;21;01mtorch\u001B[39;00m\n\u001B[0;32m      2\u001B[0m \u001B[38;5;28;01mfrom\u001B[39;00m \u001B[38;5;21;01mtorch\u001B[39;00m\u001B[38;5;21;01m.\u001B[39;00m\u001B[38;5;21;01mutils\u001B[39;00m\u001B[38;5;21;01m.\u001B[39;00m\u001B[38;5;21;01mdata\u001B[39;00m \u001B[38;5;28;01mimport\u001B[39;00m Dataset\n\u001B[1;32m----> 3\u001B[0m \u001B[38;5;28;01mfrom\u001B[39;00m \u001B[38;5;21;01mtorchvision\u001B[39;00m \u001B[38;5;28;01mimport\u001B[39;00m datasets\n\u001B[0;32m      4\u001B[0m \u001B[38;5;28;01mfrom\u001B[39;00m \u001B[38;5;21;01mtorchvision\u001B[39;00m\u001B[38;5;21;01m.\u001B[39;00m\u001B[38;5;21;01mtransforms\u001B[39;00m \u001B[38;5;28;01mimport\u001B[39;00m ToTensor\n\u001B[0;32m      5\u001B[0m \u001B[38;5;28;01mimport\u001B[39;00m \u001B[38;5;21;01mmatplotlib\u001B[39;00m\u001B[38;5;21;01m.\u001B[39;00m\u001B[38;5;21;01mpyplot\u001B[39;00m \u001B[38;5;28;01mas\u001B[39;00m \u001B[38;5;21;01mplt\u001B[39;00m\n",
      "File \u001B[1;32m~\\AppData\\Roaming\\Python\\Python311\\site-packages\\torchvision\\__init__.py:6\u001B[0m\n\u001B[0;32m      3\u001B[0m \u001B[38;5;28;01mfrom\u001B[39;00m \u001B[38;5;21;01mmodulefinder\u001B[39;00m \u001B[38;5;28;01mimport\u001B[39;00m Module\n\u001B[0;32m      5\u001B[0m \u001B[38;5;28;01mimport\u001B[39;00m \u001B[38;5;21;01mtorch\u001B[39;00m\n\u001B[1;32m----> 6\u001B[0m \u001B[38;5;28;01mfrom\u001B[39;00m \u001B[38;5;21;01mtorchvision\u001B[39;00m \u001B[38;5;28;01mimport\u001B[39;00m _meta_registrations, datasets, io, models, ops, transforms, utils\n\u001B[0;32m      8\u001B[0m \u001B[38;5;28;01mfrom\u001B[39;00m \u001B[38;5;21;01m.\u001B[39;00m\u001B[38;5;21;01mextension\u001B[39;00m \u001B[38;5;28;01mimport\u001B[39;00m _HAS_OPS\n\u001B[0;32m     10\u001B[0m \u001B[38;5;28;01mtry\u001B[39;00m:\n",
      "File \u001B[1;32m~\\AppData\\Roaming\\Python\\Python311\\site-packages\\torchvision\\datasets\\__init__.py:1\u001B[0m\n\u001B[1;32m----> 1\u001B[0m \u001B[38;5;28;01mfrom\u001B[39;00m \u001B[38;5;21;01m.\u001B[39;00m\u001B[38;5;21;01m_optical_flow\u001B[39;00m \u001B[38;5;28;01mimport\u001B[39;00m FlyingChairs, FlyingThings3D, HD1K, KittiFlow, Sintel\n\u001B[0;32m      2\u001B[0m \u001B[38;5;28;01mfrom\u001B[39;00m \u001B[38;5;21;01m.\u001B[39;00m\u001B[38;5;21;01m_stereo_matching\u001B[39;00m \u001B[38;5;28;01mimport\u001B[39;00m (\n\u001B[0;32m      3\u001B[0m     CarlaStereo,\n\u001B[0;32m      4\u001B[0m     CREStereo,\n\u001B[1;32m   (...)\u001B[0m\n\u001B[0;32m     12\u001B[0m     SintelStereo,\n\u001B[0;32m     13\u001B[0m )\n\u001B[0;32m     14\u001B[0m \u001B[38;5;28;01mfrom\u001B[39;00m \u001B[38;5;21;01m.\u001B[39;00m\u001B[38;5;21;01mcaltech\u001B[39;00m \u001B[38;5;28;01mimport\u001B[39;00m Caltech101, Caltech256\n",
      "File \u001B[1;32m~\\AppData\\Roaming\\Python\\Python311\\site-packages\\torchvision\\datasets\\_optical_flow.py:10\u001B[0m\n\u001B[0;32m      8\u001B[0m \u001B[38;5;28;01mimport\u001B[39;00m \u001B[38;5;21;01mnumpy\u001B[39;00m \u001B[38;5;28;01mas\u001B[39;00m \u001B[38;5;21;01mnp\u001B[39;00m\n\u001B[0;32m      9\u001B[0m \u001B[38;5;28;01mimport\u001B[39;00m \u001B[38;5;21;01mtorch\u001B[39;00m\n\u001B[1;32m---> 10\u001B[0m \u001B[38;5;28;01mfrom\u001B[39;00m \u001B[38;5;21;01mPIL\u001B[39;00m \u001B[38;5;28;01mimport\u001B[39;00m Image\n\u001B[0;32m     12\u001B[0m \u001B[38;5;28;01mfrom\u001B[39;00m \u001B[38;5;21;01m.\u001B[39;00m\u001B[38;5;21;01m.\u001B[39;00m\u001B[38;5;21;01mio\u001B[39;00m\u001B[38;5;21;01m.\u001B[39;00m\u001B[38;5;21;01mimage\u001B[39;00m \u001B[38;5;28;01mimport\u001B[39;00m _read_png_16\n\u001B[0;32m     13\u001B[0m \u001B[38;5;28;01mfrom\u001B[39;00m \u001B[38;5;21;01m.\u001B[39;00m\u001B[38;5;21;01mutils\u001B[39;00m \u001B[38;5;28;01mimport\u001B[39;00m _read_pfm, verify_str_arg\n",
      "File \u001B[1;32mC:\\Program Files\\Side Effects Software\\Houdini 20.5.370\\python311\\Lib\\site-packages\\PIL\\Image.py:89\u001B[0m\n\u001B[0;32m     80\u001B[0m MAX_IMAGE_PIXELS \u001B[38;5;241m=\u001B[39m \u001B[38;5;28mint\u001B[39m(\u001B[38;5;241m1024\u001B[39m \u001B[38;5;241m*\u001B[39m \u001B[38;5;241m1024\u001B[39m \u001B[38;5;241m*\u001B[39m \u001B[38;5;241m1024\u001B[39m \u001B[38;5;241m/\u001B[39m\u001B[38;5;241m/\u001B[39m \u001B[38;5;241m4\u001B[39m \u001B[38;5;241m/\u001B[39m\u001B[38;5;241m/\u001B[39m \u001B[38;5;241m3\u001B[39m)\n\u001B[0;32m     83\u001B[0m \u001B[38;5;28;01mtry\u001B[39;00m:\n\u001B[0;32m     84\u001B[0m     \u001B[38;5;66;03m# If the _imaging C module is not present, Pillow will not load.\u001B[39;00m\n\u001B[0;32m     85\u001B[0m     \u001B[38;5;66;03m# Note that other modules should not refer to _imaging directly;\u001B[39;00m\n\u001B[0;32m     86\u001B[0m     \u001B[38;5;66;03m# import Image and use the Image.core variable instead.\u001B[39;00m\n\u001B[0;32m     87\u001B[0m     \u001B[38;5;66;03m# Also note that Image.core is not a publicly documented interface,\u001B[39;00m\n\u001B[0;32m     88\u001B[0m     \u001B[38;5;66;03m# and should be considered private and subject to change.\u001B[39;00m\n\u001B[1;32m---> 89\u001B[0m     \u001B[38;5;28;01mfrom\u001B[39;00m \u001B[38;5;21;01m.\u001B[39;00m \u001B[38;5;28;01mimport\u001B[39;00m _imaging \u001B[38;5;28;01mas\u001B[39;00m core\n\u001B[0;32m     91\u001B[0m     \u001B[38;5;28;01mif\u001B[39;00m __version__ \u001B[38;5;241m!=\u001B[39m \u001B[38;5;28mgetattr\u001B[39m(core, \u001B[38;5;124m\"\u001B[39m\u001B[38;5;124mPILLOW_VERSION\u001B[39m\u001B[38;5;124m\"\u001B[39m, \u001B[38;5;28;01mNone\u001B[39;00m):\n\u001B[0;32m     92\u001B[0m         \u001B[38;5;28;01mraise\u001B[39;00m \u001B[38;5;167;01mImportError\u001B[39;00m(\n\u001B[0;32m     93\u001B[0m             \u001B[38;5;124m\"\u001B[39m\u001B[38;5;124mThe _imaging extension was built for another version of Pillow or PIL:\u001B[39m\u001B[38;5;130;01m\\n\u001B[39;00m\u001B[38;5;124m\"\u001B[39m\n\u001B[0;32m     94\u001B[0m             \u001B[38;5;124mf\u001B[39m\u001B[38;5;124m\"\u001B[39m\u001B[38;5;124mCore version: \u001B[39m\u001B[38;5;132;01m{\u001B[39;00m\u001B[38;5;28mgetattr\u001B[39m(core,\u001B[38;5;250m \u001B[39m\u001B[38;5;124m'\u001B[39m\u001B[38;5;124mPILLOW_VERSION\u001B[39m\u001B[38;5;124m'\u001B[39m,\u001B[38;5;250m \u001B[39m\u001B[38;5;28;01mNone\u001B[39;00m)\u001B[38;5;132;01m}\u001B[39;00m\u001B[38;5;130;01m\\n\u001B[39;00m\u001B[38;5;124m\"\u001B[39m\n\u001B[0;32m     95\u001B[0m             \u001B[38;5;124mf\u001B[39m\u001B[38;5;124m\"\u001B[39m\u001B[38;5;124mPillow version: \u001B[39m\u001B[38;5;132;01m{\u001B[39;00m__version__\u001B[38;5;132;01m}\u001B[39;00m\u001B[38;5;124m\"\u001B[39m\n\u001B[0;32m     96\u001B[0m         )\n",
      "\u001B[1;31mImportError\u001B[0m: DLL load failed while importing _imaging: The specified module could not be found."
     ]
    }
   ],
   "execution_count": 16
  },
  {
   "metadata": {},
   "cell_type": "markdown",
   "source": "### Fashion-MNIST dataset",
   "id": "5f8854d448a7981a"
  },
  {
   "metadata": {
    "ExecuteTime": {
     "end_time": "2024-10-08T15:00:20.253653200Z",
     "start_time": "2024-08-15T12:59:21.410698Z"
    }
   },
   "cell_type": "code",
   "source": [
    "training_data = datasets.FashionMNIST(\n",
    "    root=\"data\",\n",
    "    train=True,\n",
    "    download=True,\n",
    "    transform=ToTensor()\n",
    ")\n",
    "\n",
    "test_data = datasets.FashionMNIST(\n",
    "    root=\"data\",\n",
    "    train=False,\n",
    "    download=True,\n",
    "    transform=ToTensor()\n",
    ")\n",
    "\n",
    "print(type(training_data))\n",
    "print(type(test_data))"
   ],
   "id": "2effcd5094ea05cc",
   "outputs": [
    {
     "name": "stdout",
     "output_type": "stream",
     "text": [
      "<class 'torchvision.datasets.mnist.FashionMNIST'>\n",
      "<class 'torchvision.datasets.mnist.FashionMNIST'>\n"
     ]
    }
   ],
   "execution_count": 17
  },
  {
   "metadata": {},
   "cell_type": "markdown",
   "source": "### Iterating and Visualizing the Dataset",
   "id": "8dd71720b7d87c19"
  },
  {
   "metadata": {
    "ExecuteTime": {
     "end_time": "2024-10-08T15:00:20.253653200Z",
     "start_time": "2024-08-15T12:59:21.496160Z"
    }
   },
   "cell_type": "code",
   "source": [
    "labels_map = {\n",
    "    0: \"T-Shirt\",\n",
    "    1: \"Trouser\",\n",
    "    2: \"Pullover\",\n",
    "    3: \"Dress\",\n",
    "    4: \"Coat\",\n",
    "    5: \"Sandal\",\n",
    "    6: \"Shirt\",\n",
    "    7: \"Sneaker\",\n",
    "    8: \"Bag\",\n",
    "    9: \"Ankle Boot\",\n",
    "}\n",
    "figure = plt.figure(figsize=(8, 8))\n",
    "cols, rows = 3, 3\n",
    "for i in range(1, cols * rows + 1):\n",
    "    sample_idx = torch.randint(len(training_data), size=(1,)).item()\n",
    "    img, label = training_data[sample_idx]\n",
    "    figure.add_subplot(rows, cols, i)\n",
    "    plt.title(labels_map[label])\n",
    "    plt.axis(\"off\")\n",
    "    plt.imshow(img.squeeze(), cmap=\"gray\")\n",
    "plt.show()"
   ],
   "id": "963196dd43c276f5",
   "outputs": [
    {
     "data": {
      "text/plain": [
       "<Figure size 800x800 with 9 Axes>"
      ],
      "image/png": "[encoded data removed]"
     },
     "metadata": {},
     "output_type": "display_data"
    }
   ],
   "execution_count": 18
  },
  {
   "metadata": {},
   "cell_type": "markdown",
   "source": "### create a custom dataset for your files",
   "id": "b428eb8e6c4bdc2"
  },
  {
   "metadata": {
    "ExecuteTime": {
     "end_time": "2024-10-08T15:00:20.255711400Z",
     "start_time": "2024-08-15T12:59:21.796217Z"
    }
   },
   "cell_type": "code",
   "source": [
    "import os\n",
    "import pandas as pd\n",
    "from torchvision.io import read_image\n",
    "from torch.utils.data import Dataset\n",
    "\n",
    "\n",
    "class MyDataset(Dataset):\n",
    "    def __init__(self):\n",
    "        pass\n",
    "\n",
    "    def __len__(self):\n",
    "        pass\n",
    "\n",
    "    def __getitem__(self, idx):\n",
    "        pass"
   ],
   "id": "4877ecc902b716ab",
   "outputs": [],
   "execution_count": 19
  },
  {
   "metadata": {},
   "cell_type": "markdown",
   "source": "### prepare your data for training with DataLoaders",
   "id": "df8971314371d427"
  },
  {
   "metadata": {
    "ExecuteTime": {
     "end_time": "2024-10-08T15:00:20.255711400Z",
     "start_time": "2024-08-15T12:59:23.207279Z"
    }
   },
   "cell_type": "code",
   "source": [
    "from torch.utils.data import DataLoader\n",
    "\n",
    "train_dataloader = DataLoader(dataset=training_data, batch_size=64, shuffle=True)\n",
    "test_dataloader = DataLoader(dataset=test_data, batch_size=64, shuffle=True)\n",
    "\n",
    "train_features, train_labels = next(iter(train_dataloader))\n",
    "print(f\"Feature batch shape: {train_features.size()}\")\n",
    "print(f\"Labels batch shape: {train_labels.size()}\")\n",
    "print(train_features.shape)\n",
    "print(train_features[0].shape)\n",
    "img = train_features[0].squeeze()  # remove dimension of size 1\n",
    "label = train_labels[0]\n",
    "plt.imshow(img, cmap=\"gray\")\n",
    "plt.show()\n",
    "print(f\"Label: {label}\")"
   ],
   "id": "ee4227b90d16ecfc",
   "outputs": [
    {
     "name": "stdout",
     "output_type": "stream",
     "text": [
      "Feature batch shape: torch.Size([64, 1, 28, 28])\n",
      "Labels batch shape: torch.Size([64])\n",
      "torch.Size([64, 1, 28, 28])\n",
      "torch.Size([1, 28, 28])\n"
     ]
    },
    {
     "data": {
      "text/plain": [
       "<Figure size 640x480 with 1 Axes>"
      ],
      "image/png": "[encoded data removed]"
     },
     "metadata": {},
     "output_type": "display_data"
    },
    {
     "name": "stdout",
     "output_type": "stream",
     "text": [
      "Label: 8\n"
     ]
    }
   ],
   "execution_count": 20
  },
  {
   "metadata": {},
   "cell_type": "markdown",
   "source": "## Transforms",
   "id": "42e964a97195649a"
  },
  {
   "metadata": {
    "ExecuteTime": {
     "end_time": "2024-10-08T15:00:20.255711400Z",
     "start_time": "2024-08-15T12:59:23.285273Z"
    }
   },
   "cell_type": "code",
   "source": [
    "import torch\n",
    "from torchvision import datasets\n",
    "from torchvision.transforms import ToTensor, Lambda"
   ],
   "id": "f3dab38cd85816a3",
   "outputs": [],
   "execution_count": 21
  },
  {
   "metadata": {
    "ExecuteTime": {
     "end_time": "2024-10-08T15:00:20.255711400Z",
     "start_time": "2024-08-15T12:59:23.289233Z"
    }
   },
   "cell_type": "code",
   "source": [
    "ds = datasets.FashionMNIST(\n",
    "    root=\"data\",\n",
    "    train=True,\n",
    "    download=True,\n",
    "    transform=ToTensor(),\n",
    "    target_transform=Lambda(lambda y: torch.zeros(10, dtype=torch.float).scatter_(0, torch.tensor(y), value=1))\n",
    ")"
   ],
   "id": "d21a3cf4a1a1bec0",
   "outputs": [],
   "execution_count": 22
  },
  {
   "metadata": {},
   "cell_type": "markdown",
   "source": "## Build the Neural Network",
   "id": "c5e7b3174ca318a"
  },
  {
   "metadata": {
    "ExecuteTime": {
     "end_time": "2024-10-08T15:00:20.283956200Z",
     "start_time": "2024-08-15T12:59:23.327173Z"
    }
   },
   "cell_type": "code",
   "source": [
    "import os\n",
    "import torch\n",
    "from torch import nn\n",
    "from torch.utils.data import DataLoader\n",
    "from torchvision import datasets, transforms"
   ],
   "id": "71d22a7589dac55a",
   "outputs": [],
   "execution_count": 23
  },
  {
   "metadata": {},
   "cell_type": "markdown",
   "source": "### device configuration",
   "id": "f7ccf39432292100"
  },
  {
   "metadata": {
    "ExecuteTime": {
     "end_time": "2024-10-08T15:00:20.284956300Z",
     "start_time": "2024-08-15T12:59:23.331539Z"
    }
   },
   "cell_type": "code",
   "source": [
    "device = (\n",
    "    \"cuda\"\n",
    "    if torch.cuda.is_available()\n",
    "    else \"mps\"\n",
    "    if torch.backends.mps.is_available()\n",
    "    else \"cpu\"\n",
    ")\n",
    "print(f\"Using {device} device\")"
   ],
   "id": "1d44e74fa95dd54a",
   "outputs": [
    {
     "name": "stdout",
     "output_type": "stream",
     "text": [
      "Using cuda device\n"
     ]
    }
   ],
   "execution_count": 24
  },
  {
   "metadata": {},
   "cell_type": "markdown",
   "source": "### define the class",
   "id": "965827ac78ce6f"
  },
  {
   "metadata": {
    "ExecuteTime": {
     "end_time": "2024-10-08T15:00:20.284956300Z",
     "start_time": "2024-08-15T12:59:23.335968Z"
    }
   },
   "cell_type": "code",
   "source": [
    "class NeuralNetwork(nn.Module):\n",
    "    def __init__(self):\n",
    "        super().__init__()\n",
    "        self.flatten = nn.Flatten()\n",
    "        self.linear_relu_stack = nn.Sequential(\n",
    "            nn.Linear(28 * 28, 512),\n",
    "            nn.ReLU(),\n",
    "            nn.Linear(512, 512),\n",
    "            nn.ReLU(),\n",
    "            nn.Linear(512, 10),\n",
    "        )\n",
    "\n",
    "    def forward(self, x):\n",
    "        x = self.flatten(x)\n",
    "        logits = self.linear_relu_stack(x)\n",
    "        return logits\n",
    "\n",
    "\n",
    "device = (\"cuda\" if torch.cuda.is_available() else \"cpu\")\n",
    "model = NeuralNetwork().to(device)\n",
    "print(model)\n",
    "\n",
    "X = torch.rand(1, 28, 28, device=device)\n",
    "logits = model(X)\n",
    "pred_probab = nn.Softmax(dim=1)(logits)\n",
    "y_pred = pred_probab.argmax(1)\n",
    "print(f\"Predicted class: {y_pred}\")\n",
    "\n",
    "print(f\"Model structure: {model}\\n\\n\")\n",
    "for name, param in model.named_parameters():\n",
    "    print(f\"Layer: {name} | Size: {param.size()} | Values : {param[:2]} \\n\")"
   ],
   "id": "d8240448e6148325",
   "outputs": [
    {
     "name": "stdout",
     "output_type": "stream",
     "text": [
      "NeuralNetwork(\n",
      "  (flatten): Flatten(start_dim=1, end_dim=-1)\n",
      "  (linear_relu_stack): Sequential(\n",
      "    (0): Linear(in_features=784, out_features=512, bias=True)\n",
      "    (1): ReLU()\n",
      "    (2): Linear(in_features=512, out_features=512, bias=True)\n",
      "    (3): ReLU()\n",
      "    (4): Linear(in_features=512, out_features=10, bias=True)\n",
      "  )\n",
      ")\n",
      "Predicted class: tensor([5], device='cuda:0')\n",
      "Model structure: NeuralNetwork(\n",
      "  (flatten): Flatten(start_dim=1, end_dim=-1)\n",
      "  (linear_relu_stack): Sequential(\n",
      "    (0): Linear(in_features=784, out_features=512, bias=True)\n",
      "    (1): ReLU()\n",
      "    (2): Linear(in_features=512, out_features=512, bias=True)\n",
      "    (3): ReLU()\n",
      "    (4): Linear(in_features=512, out_features=10, bias=True)\n",
      "  )\n",
      ")\n",
      "\n",
      "\n",
      "Layer: linear_relu_stack.0.weight | Size: torch.Size([512, 784]) | Values : tensor([[-0.0162, -0.0088,  0.0221,  ...,  0.0161,  0.0283, -0.0271],\n",
      "        [ 0.0015,  0.0286,  0.0284,  ..., -0.0102,  0.0281,  0.0060]],\n",
      "       device='cuda:0', grad_fn=<SliceBackward0>) \n",
      "\n",
      "Layer: linear_relu_stack.0.bias | Size: torch.Size([512]) | Values : tensor([ 0.0022, -0.0067], device='cuda:0', grad_fn=<SliceBackward0>) \n",
      "\n",
      "Layer: linear_relu_stack.2.weight | Size: torch.Size([512, 512]) | Values : tensor([[-0.0344,  0.0352, -0.0253,  ...,  0.0424,  0.0332, -0.0396],\n",
      "        [ 0.0375,  0.0386, -0.0166,  ..., -0.0070,  0.0039, -0.0004]],\n",
      "       device='cuda:0', grad_fn=<SliceBackward0>) \n",
      "\n",
      "Layer: linear_relu_stack.2.bias | Size: torch.Size([512]) | Values : tensor([ 0.0159, -0.0358], device='cuda:0', grad_fn=<SliceBackward0>) \n",
      "\n",
      "Layer: linear_relu_stack.4.weight | Size: torch.Size([10, 512]) | Values : tensor([[-0.0267,  0.0068, -0.0025,  ..., -0.0267, -0.0438,  0.0229],\n",
      "        [-0.0013,  0.0029,  0.0367,  ...,  0.0276,  0.0274, -0.0331]],\n",
      "       device='cuda:0', grad_fn=<SliceBackward0>) \n",
      "\n",
      "Layer: linear_relu_stack.4.bias | Size: torch.Size([10]) | Values : tensor([ 0.0101, -0.0261], device='cuda:0', grad_fn=<SliceBackward0>) \n",
      "\n"
     ]
    }
   ],
   "execution_count": 25
  },
  {
   "metadata": {},
   "cell_type": "markdown",
   "source": "## Automatic Differentiation",
   "id": "c80f9ff8aea52a5"
  },
  {
   "metadata": {
    "ExecuteTime": {
     "end_time": "2024-10-08T15:00:20.285956900Z",
     "start_time": "2024-08-15T12:59:23.496659Z"
    }
   },
   "cell_type": "code",
   "source": "import torch",
   "id": "9e3021ab1f627d9d",
   "outputs": [],
   "execution_count": 26
  },
  {
   "metadata": {},
   "cell_type": "markdown",
   "source": "",
   "id": "561987a82cf5ffaa"
  },
  {
   "metadata": {
    "ExecuteTime": {
     "end_time": "2024-10-08T15:00:20.285956900Z",
     "start_time": "2024-08-15T12:59:23.501066Z"
    }
   },
   "cell_type": "code",
   "source": [
    "x = torch.ones(5)  # input tensor\n",
    "y = torch.zeros(3)  # expected output\n",
    "w = torch.randn(5, 3, requires_grad=True)\n",
    "b = torch.randn(3, requires_grad=True)\n",
    "z = torch.matmul(x, w) + b\n",
    "loss = torch.nn.functional.binary_cross_entropy_with_logits(z, y)\n",
    "\n",
    "print(f\"Gradient function for z = {z.grad_fn}\")\n",
    "print(f\"Gradient function for loss = {loss.grad_fn}\")\n",
    "\n",
    "loss.backward()\n",
    "print(w.grad)\n",
    "print(b.grad)\n",
    "\n",
    "z = torch.matmul(x, w) + b\n",
    "print(z.requires_grad)"
   ],
   "id": "2494dc6893a80ba4",
   "outputs": [
    {
     "name": "stdout",
     "output_type": "stream",
     "text": [
      "Gradient function for z = <AddBackward0 object at 0x000002C4ACCE5300>\n",
      "Gradient function for loss = <BinaryCrossEntropyWithLogitsBackward0 object at 0x000002C4AE506530>\n",
      "tensor([[0.0360, 0.3254, 0.0009],\n",
      "        [0.0360, 0.3254, 0.0009],\n",
      "        [0.0360, 0.3254, 0.0009],\n",
      "        [0.0360, 0.3254, 0.0009],\n",
      "        [0.0360, 0.3254, 0.0009]])\n",
      "tensor([0.0360, 0.3254, 0.0009])\n",
      "True\n"
     ]
    }
   ],
   "execution_count": 27
  },
  {
   "metadata": {},
   "cell_type": "markdown",
   "source": "### Disable gradient tracking",
   "id": "e2157d880b357b8a"
  },
  {
   "metadata": {
    "ExecuteTime": {
     "end_time": "2024-10-08T15:00:20.285956900Z",
     "start_time": "2024-08-15T12:59:23.509360Z"
    }
   },
   "cell_type": "code",
   "source": [
    "with torch.no_grad():\n",
    "    z = torch.matmul(x, w) + b\n",
    "print(z.requires_grad)\n",
    "\n",
    "z = torch.matmul(x, w) + b\n",
    "z_det = z.detach()\n",
    "print(z_det.requires_grad)"
   ],
   "id": "c89a233cecb7fe2",
   "outputs": [
    {
     "name": "stdout",
     "output_type": "stream",
     "text": [
      "False\n",
      "False\n"
     ]
    }
   ],
   "execution_count": 28
  },
  {
   "metadata": {},
   "cell_type": "markdown",
   "source": "### Tensor gradients and Jacobian products",
   "id": "d811a25eb5f2b587"
  },
  {
   "metadata": {
    "ExecuteTime": {
     "end_time": "2024-10-08T15:00:20.285956900Z",
     "start_time": "2024-08-15T12:59:23.515425Z"
    }
   },
   "cell_type": "code",
   "source": [
    "inp = torch.eye(4, 5, requires_grad=True)\n",
    "out = (inp + 1).pow(2).t()\n",
    "out.backward(torch.ones_like(out), retain_graph=True)\n",
    "print(f\"First call\\n{inp.grad}\")\n",
    "out.backward(torch.ones_like(out), retain_graph=True)\n",
    "print(f\"\\nSecond call\\n{inp.grad}\")\n",
    "inp.grad.zero_()\n",
    "out.backward(torch.ones_like(out), retain_graph=True)\n",
    "print(f\"\\nCall after zeroing gradients\\n{inp.grad}\")"
   ],
   "id": "a7f64485d7e616e9",
   "outputs": [
    {
     "name": "stdout",
     "output_type": "stream",
     "text": [
      "First call\n",
      "tensor([[4., 2., 2., 2., 2.],\n",
      "        [2., 4., 2., 2., 2.],\n",
      "        [2., 2., 4., 2., 2.],\n",
      "        [2., 2., 2., 4., 2.]])\n",
      "\n",
      "Second call\n",
      "tensor([[8., 4., 4., 4., 4.],\n",
      "        [4., 8., 4., 4., 4.],\n",
      "        [4., 4., 8., 4., 4.],\n",
      "        [4., 4., 4., 8., 4.]])\n",
      "\n",
      "Call after zeroing gradients\n",
      "tensor([[4., 2., 2., 2., 2.],\n",
      "        [2., 4., 2., 2., 2.],\n",
      "        [2., 2., 4., 2., 2.],\n",
      "        [2., 2., 2., 4., 2.]])\n"
     ]
    }
   ],
   "execution_count": 29
  },
  {
   "metadata": {},
   "cell_type": "markdown",
   "source": "## Optimizing Model Parameters",
   "id": "f190362b490591d7"
  },
  {
   "metadata": {
    "ExecuteTime": {
     "end_time": "2024-10-08T15:00:20.285956900Z",
     "start_time": "2024-08-15T12:59:23.523383Z"
    }
   },
   "cell_type": "code",
   "source": [
    "import torch\n",
    "from torch import nn\n",
    "from torch.utils.data import DataLoader\n",
    "from torchvision import datasets\n",
    "from torchvision.transforms import ToTensor\n",
    "\n",
    "training_data = datasets.FashionMNIST(\n",
    "    root=\"data\",\n",
    "    train=True,\n",
    "    download=True,\n",
    "    transform=ToTensor()\n",
    ")\n",
    "\n",
    "test_data = datasets.FashionMNIST(\n",
    "    root=\"data\",\n",
    "    train=False,\n",
    "    download=True,\n",
    "    transform=ToTensor()\n",
    ")\n",
    "\n",
    "train_dataloader = DataLoader(training_data, batch_size=64)\n",
    "test_dataloader = DataLoader(test_data, batch_size=64)\n",
    "\n",
    "\n",
    "class NeuralNetwork(nn.Module):\n",
    "    def __init__(self):\n",
    "        super().__init__()\n",
    "        self.flatten = nn.Flatten()\n",
    "        self.linear_relu_stack = nn.Sequential(\n",
    "            nn.Linear(28 * 28, 512),\n",
    "            nn.ReLU(),\n",
    "            nn.Linear(512, 512),\n",
    "            nn.ReLU(),\n",
    "            nn.Linear(512, 10),\n",
    "        )\n",
    "\n",
    "    def forward(self, x):\n",
    "        x = self.flatten(x)\n",
    "        logits = self.linear_relu_stack(x)\n",
    "        return logits\n",
    "\n",
    "\n",
    "model = NeuralNetwork()\n",
    "\n",
    "learning_rate = 1e-3\n",
    "batch_size = 64\n",
    "\n",
    "\n",
    "def train_loop(dataloader, model, loss_fn, optimizer):\n",
    "    size = len(dataloader.dataset)\n",
    "    # Set the model to training mode - important for batch normalization and dropout layers\n",
    "    # Unnecessary in this situation but added for best practices\n",
    "    model.train()\n",
    "    for batch, (X, y) in enumerate(dataloader):\n",
    "        # Compute prediction and loss\n",
    "        pred = model(X)\n",
    "        loss = loss_fn(pred, y)\n",
    "\n",
    "        # Backpropagation\n",
    "        loss.backward()\n",
    "        optimizer.step()\n",
    "        optimizer.zero_grad()\n",
    "\n",
    "        if batch % 100 == 0:\n",
    "            loss, current = loss.item(), batch * batch_size + len(X)\n",
    "            print(f\"loss: {loss:>7f}  [{current:>5d}/{size:>5d}]\")\n",
    "\n",
    "\n",
    "def test_loop(dataloader, model, loss_fn):\n",
    "    # Set the model to evaluation mode - important for batch normalization and dropout layers\n",
    "    # Unnecessary in this situation but added for best practices\n",
    "    model.eval()\n",
    "    size = len(dataloader.dataset)\n",
    "    num_batches = len(dataloader)\n",
    "    test_loss, correct = 0, 0\n",
    "\n",
    "    # Evaluating the model with torch.no_grad() ensures that no gradients are computed during test mode\n",
    "    # also serves to reduce unnecessary gradient computations and memory usage for tensors with requires_grad=True\n",
    "    with torch.no_grad():\n",
    "        for X, y in dataloader:\n",
    "            pred = model(X)\n",
    "            test_loss += loss_fn(pred, y).item()\n",
    "            correct += (pred.argmax(1) == y).type(torch.float).sum().item()\n",
    "\n",
    "    test_loss /= num_batches\n",
    "    correct /= size\n",
    "    print(f\"Test Error: \\n Accuracy: {(100 * correct):>0.1f}%, Avg loss: {test_loss:>8f} \\n\")\n",
    "\n",
    "\n",
    "loss_fn = nn.CrossEntropyLoss()\n",
    "optimizer = torch.optim.SGD(model.parameters(), lr=learning_rate)\n",
    "\n",
    "epochs = 10\n",
    "for t in range(epochs):\n",
    "    print(f\"Epoch {t + 1}\\n-------------------------------\")\n",
    "    train_loop(train_dataloader, model, loss_fn, optimizer)\n",
    "    test_loop(test_dataloader, model, loss_fn)\n",
    "print(\"Done!\")"
   ],
   "id": "8d5d21c45611255d",
   "outputs": [
    {
     "name": "stdout",
     "output_type": "stream",
     "text": [
      "Epoch 1\n",
      "-------------------------------\n",
      "loss: 2.302630  [   64/60000]\n",
      "loss: 2.294386  [ 6464/60000]\n",
      "loss: 2.279310  [12864/60000]\n",
      "loss: 2.266831  [19264/60000]\n",
      "loss: 2.256006  [25664/60000]\n",
      "loss: 2.231220  [32064/60000]\n",
      "loss: 2.222853  [38464/60000]\n",
      "loss: 2.197664  [44864/60000]\n",
      "loss: 2.183412  [51264/60000]\n",
      "loss: 2.158354  [57664/60000]\n",
      "Test Error: \n",
      " Accuracy: 52.5%, Avg loss: 2.155817 \n",
      "\n",
      "Epoch 2\n",
      "-------------------------------\n",
      "loss: 2.159009  [   64/60000]\n",
      "loss: 2.154714  [ 6464/60000]\n",
      "loss: 2.105333  [12864/60000]\n",
      "loss: 2.119789  [19264/60000]\n",
      "loss: 2.066193  [25664/60000]\n",
      "loss: 2.009903  [32064/60000]\n",
      "loss: 2.025374  [38464/60000]\n",
      "loss: 1.951199  [44864/60000]\n",
      "loss: 1.945468  [51264/60000]\n",
      "loss: 1.888341  [57664/60000]\n",
      "Test Error: \n",
      " Accuracy: 59.5%, Avg loss: 1.882840 \n",
      "\n",
      "Epoch 3\n",
      "-------------------------------\n",
      "loss: 1.903739  [   64/60000]\n",
      "loss: 1.883012  [ 6464/60000]\n",
      "loss: 1.772325  [12864/60000]\n",
      "loss: 1.817582  [19264/60000]\n",
      "loss: 1.698420  [25664/60000]\n",
      "loss: 1.644513  [32064/60000]\n",
      "loss: 1.661719  [38464/60000]\n",
      "loss: 1.561499  [44864/60000]\n",
      "loss: 1.589599  [51264/60000]\n",
      "loss: 1.490105  [57664/60000]\n",
      "Test Error: \n",
      " Accuracy: 63.3%, Avg loss: 1.502289 \n",
      "\n",
      "Epoch 4\n",
      "-------------------------------\n",
      "loss: 1.558298  [   64/60000]\n",
      "loss: 1.532537  [ 6464/60000]\n",
      "loss: 1.385587  [12864/60000]\n",
      "loss: 1.464430  [19264/60000]\n",
      "loss: 1.340297  [25664/60000]\n",
      "loss: 1.329406  [32064/60000]\n",
      "loss: 1.338424  [38464/60000]\n",
      "loss: 1.263927  [44864/60000]\n",
      "loss: 1.306932  [51264/60000]\n",
      "loss: 1.207891  [57664/60000]\n",
      "Test Error: \n",
      " Accuracy: 64.4%, Avg loss: 1.229227 \n",
      "\n",
      "Epoch 5\n",
      "-------------------------------\n",
      "loss: 1.297643  [   64/60000]\n",
      "loss: 1.288791  [ 6464/60000]\n",
      "loss: 1.124459  [12864/60000]\n",
      "loss: 1.236246  [19264/60000]\n",
      "loss: 1.113085  [25664/60000]\n",
      "loss: 1.131872  [32064/60000]\n",
      "loss: 1.145361  [38464/60000]\n",
      "loss: 1.084709  [44864/60000]\n",
      "loss: 1.131146  [51264/60000]\n",
      "loss: 1.048376  [57664/60000]\n",
      "Test Error: \n",
      " Accuracy: 65.5%, Avg loss: 1.064439 \n",
      "\n",
      "Epoch 6\n",
      "-------------------------------\n",
      "loss: 1.125540  [   64/60000]\n",
      "loss: 1.138980  [ 6464/60000]\n",
      "loss: 0.957650  [12864/60000]\n",
      "loss: 1.097164  [19264/60000]\n",
      "loss: 0.978572  [25664/60000]\n",
      "loss: 1.002371  [32064/60000]\n",
      "loss: 1.029941  [38464/60000]\n",
      "loss: 0.973631  [44864/60000]\n",
      "loss: 1.020202  [51264/60000]\n",
      "loss: 0.951356  [57664/60000]\n",
      "Test Error: \n",
      " Accuracy: 67.0%, Avg loss: 0.960647 \n",
      "\n",
      "Epoch 7\n",
      "-------------------------------\n",
      "loss: 1.008503  [   64/60000]\n",
      "loss: 1.043607  [ 6464/60000]\n",
      "loss: 0.846008  [12864/60000]\n",
      "loss: 1.006293  [19264/60000]\n",
      "loss: 0.895011  [25664/60000]\n",
      "loss: 0.912184  [32064/60000]\n",
      "loss: 0.955904  [38464/60000]\n",
      "loss: 0.902513  [44864/60000]\n",
      "loss: 0.945171  [51264/60000]\n",
      "loss: 0.886677  [57664/60000]\n",
      "Test Error: \n",
      " Accuracy: 68.3%, Avg loss: 0.890667 \n",
      "\n",
      "Epoch 8\n",
      "-------------------------------\n",
      "loss: 0.923330  [   64/60000]\n",
      "loss: 0.977704  [ 6464/60000]\n",
      "loss: 0.766881  [12864/60000]\n",
      "loss: 0.942810  [19264/60000]\n",
      "loss: 0.838551  [25664/60000]\n",
      "loss: 0.846370  [32064/60000]\n",
      "loss: 0.904103  [38464/60000]\n",
      "loss: 0.855256  [44864/60000]\n",
      "loss: 0.891284  [51264/60000]\n",
      "loss: 0.840110  [57664/60000]\n",
      "Test Error: \n",
      " Accuracy: 69.6%, Avg loss: 0.840373 \n",
      "\n",
      "Epoch 9\n",
      "-------------------------------\n",
      "loss: 0.857791  [   64/60000]\n",
      "loss: 0.928245  [ 6464/60000]\n",
      "loss: 0.707969  [12864/60000]\n",
      "loss: 0.895736  [19264/60000]\n",
      "loss: 0.797739  [25664/60000]\n",
      "loss: 0.796633  [32064/60000]\n",
      "loss: 0.864558  [38464/60000]\n",
      "loss: 0.822217  [44864/60000]\n",
      "loss: 0.850809  [51264/60000]\n",
      "loss: 0.804091  [57664/60000]\n",
      "Test Error: \n",
      " Accuracy: 70.8%, Avg loss: 0.802098 \n",
      "\n",
      "Epoch 10\n",
      "-------------------------------\n",
      "loss: 0.804995  [   64/60000]\n",
      "loss: 0.888659  [ 6464/60000]\n",
      "loss: 0.662176  [12864/60000]\n",
      "loss: 0.859463  [19264/60000]\n",
      "loss: 0.766208  [25664/60000]\n",
      "loss: 0.758278  [32064/60000]\n",
      "loss: 0.832184  [38464/60000]\n",
      "loss: 0.797711  [44864/60000]\n",
      "loss: 0.819327  [51264/60000]\n",
      "loss: 0.774680  [57664/60000]\n",
      "Test Error: \n",
      " Accuracy: 71.9%, Avg loss: 0.771544 \n",
      "\n",
      "Done!\n"
     ]
    }
   ],
   "execution_count": 30
  }
 ],
 "metadata": {
  "kernelspec": {
   "display_name": "Python 3 (ipykernel)",
   "language": "python",
   "name": "python3"
  },
  "language_info": {
   "codemirror_mode": {
    "name": "ipython",
    "version": 3
   },
   "file_extension": ".py",
   "mimetype": "text/x-python",
   "name": "python",
   "nbconvert_exporter": "python",
   "pygments_lexer": "ipython3",
   "version": "3.11.8"
  }
 },
 "nbformat": 4,
 "nbformat_minor": 5
}
