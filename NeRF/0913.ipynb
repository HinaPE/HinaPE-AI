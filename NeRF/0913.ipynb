{
 "cells": [
  {
   "cell_type": "code",
   "id": "initial_id",
   "metadata": {
    "collapsed": true,
    "ExecuteTime": {
     "end_time": "2024-09-13T14:45:22.488029Z",
     "start_time": "2024-09-13T14:45:22.483907Z"
    }
   },
   "source": [
    "import torch\n",
    "import numpy as np\n",
    "import imageio.v2 as imageio\n",
    "\n",
    "device = torch.device(\"cuda\" if torch.cuda.is_available() else \"cpu\")\n",
    "torch.set_default_dtype(torch.float32)"
   ],
   "outputs": [],
   "execution_count": 117
  },
  {
   "metadata": {
    "ExecuteTime": {
     "end_time": "2024-09-13T14:45:22.497393Z",
     "start_time": "2024-09-13T14:45:22.492035Z"
    }
   },
   "cell_type": "code",
   "source": [
    "trans_t = lambda t: torch.Tensor([\n",
    "    [1, 0, 0, 0],\n",
    "    [0, 1, 0, 0],\n",
    "    [0, 0, 1, t],\n",
    "    [0, 0, 0, 1]]).float()\n",
    "\n",
    "rot_phi = lambda phi: torch.Tensor([\n",
    "    [1, 0, 0, 0],\n",
    "    [0, np.cos(phi), -np.sin(phi), 0],\n",
    "    [0, np.sin(phi), np.cos(phi), 0],\n",
    "    [0, 0, 0, 1]]).float()\n",
    "\n",
    "rot_theta = lambda th: torch.Tensor([\n",
    "    [np.cos(th), 0, -np.sin(th), 0],\n",
    "    [0, 1, 0, 0],\n",
    "    [np.sin(th), 0, np.cos(th), 0],\n",
    "    [0, 0, 0, 1]]).float()\n",
    "\n",
    "\n",
    "def pose_spherical(theta, phi, radius):\n",
    "    c2w = trans_t(radius)\n",
    "    c2w = rot_phi(phi / 180. * np.pi) @ c2w\n",
    "    c2w = rot_theta(theta / 180. * np.pi) @ c2w\n",
    "    c2w = torch.Tensor(np.array([[-1, 0, 0, 0], [0, 0, 1, 0], [0, 1, 0, 0], [0, 0, 0, 1]])) @ c2w\n",
    "    return c2w"
   ],
   "id": "4cb188546246169",
   "outputs": [],
   "execution_count": 118
  },
  {
   "metadata": {
    "ExecuteTime": {
     "end_time": "2024-09-13T14:45:24.692889Z",
     "start_time": "2024-09-13T14:45:22.512125Z"
    }
   },
   "cell_type": "code",
   "source": [
    "import json\n",
    "import os\n",
    "\n",
    "metas = {}\n",
    "for s in ['train', 'val', 'test']:\n",
    "    with open(os.path.join(\"data/nerf_synthetic/lego\", 'transforms_{}.json'.format(s)), 'r') as fp:\n",
    "        metas[s] = json.load(fp)\n",
    "imgs = []\n",
    "poses = []\n",
    "for frame in metas['train']['frames']:\n",
    "    path = os.path.normpath(os.path.join(\"data/nerf_synthetic/lego\", frame['file_path'] + '.png'))\n",
    "    imgs.append(imageio.imread(path).astype(np.float32) / 255.)\n",
    "    poses.append(np.array(frame['transform_matrix']).astype(np.float32))\n",
    "height, width = imgs[0].shape[:2]\n",
    "camera_angle_x = float(metas['train']['camera_angle_x'])\n",
    "focal = .5 * width / np.tan(.5 * camera_angle_x)\n",
    "near = 2.\n",
    "far = 6.\n",
    "render_poses = torch.stack([pose_spherical(angle, -30.0, 4.0) for angle in np.linspace(-180, 180, 40 + 1)[:-1]], 0)\n",
    "imgs2 = np.concatenate(imgs, 0)\n",
    "poses2 = np.concatenate(poses, 0)"
   ],
   "id": "8a0fb3eb16ecf921",
   "outputs": [],
   "execution_count": 119
  },
  {
   "metadata": {
    "ExecuteTime": {
     "end_time": "2024-09-13T14:45:24.710443Z",
     "start_time": "2024-09-13T14:45:24.707610Z"
    }
   },
   "cell_type": "code",
   "source": [
    "class NeRF(torch.nn.Module):\n",
    "    def __init__(self):\n",
    "        super(NeRF, self).__init__()"
   ],
   "id": "9a5865a7ca453e96",
   "outputs": [],
   "execution_count": null
  }
 ],
 "metadata": {
  "kernelspec": {
   "display_name": "Python 3",
   "language": "python",
   "name": "python3"
  },
  "language_info": {
   "codemirror_mode": {
    "name": "ipython",
    "version": 2
   },
   "file_extension": ".py",
   "mimetype": "text/x-python",
   "name": "python",
   "nbconvert_exporter": "python",
   "pygments_lexer": "ipython2",
   "version": "2.7.6"
  }
 },
 "nbformat": 4,
 "nbformat_minor": 5
}
