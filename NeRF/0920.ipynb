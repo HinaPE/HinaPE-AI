{
 "cells": [
  {
   "metadata": {},
   "cell_type": "markdown",
   "source": "# NeRF",
   "id": "8255232b5eef9537"
  },
  {
   "metadata": {},
   "cell_type": "markdown",
   "source": "## 0. Hyperparameters",
   "id": "4980771534bb1669"
  },
  {
   "metadata": {
    "ExecuteTime": {
     "end_time": "2024-09-23T06:34:55.794747Z",
     "start_time": "2024-09-23T06:34:55.791412Z"
    }
   },
   "cell_type": "code",
   "source": [
    "import argparse\n",
    "\n",
    "args = {\n",
    "    # For NeRF NNs and Optimizer\n",
    "    \"coarse_net_width\": 256,\n",
    "    \"coarse_net_depth\": 8,\n",
    "    \"fine_net_width\": 256,\n",
    "    \"fine_net_depth\": 8,\n",
    "    \"learning_rate\": 5e-4,\n",
    "}\n",
    "args = argparse.Namespace(**args)"
   ],
   "id": "61c519a77fec105a",
   "outputs": [],
   "execution_count": 12
  },
  {
   "metadata": {},
   "cell_type": "markdown",
   "source": "## 1. Model",
   "id": "480f252ce4c39f69"
  },
  {
   "cell_type": "code",
   "id": "initial_id",
   "metadata": {
    "collapsed": true,
    "ExecuteTime": {
     "end_time": "2024-09-23T06:34:56.728368Z",
     "start_time": "2024-09-23T06:34:55.823269Z"
    }
   },
   "source": [
    "import torch\n",
    "\n",
    "\n",
    "class NeRF(torch.nn.Module):\n",
    "    def __init__(self, net_width: int, net_depth: int, input_channel: int, output_channel: int,\n",
    "                 input_channel_views: int, use_view: bool, skips: list):\n",
    "        super(NeRF, self).__init__()\n",
    "        self.net_width = net_width\n",
    "        self.net_depth = net_depth\n",
    "        self.input_channel = input_channel\n",
    "        self.output_channel = output_channel\n",
    "        self.input_channel_views = input_channel_views\n",
    "        self.use_view = use_view\n",
    "        self.skips = skips\n",
    "\n",
    "        self.points_layers = torch.nn.ModuleList(\n",
    "            [torch.nn.Linear(in_features=input_channel, out_features=net_width)] + [\n",
    "                torch.nn.Linear(in_features=net_width, out_features=net_width) if i not in skips else torch.nn.Linear(\n",
    "                    in_features=(net_width + input_channel), out_features=net_width) for i in range(net_depth - 1)])\n",
    "        self.views_layers = torch.nn.ModuleList(\n",
    "            [torch.nn.Linear(in_features=input_channel_views + net_width, out_features=net_width // 2)])\n",
    "        if use_view:\n",
    "            self.feature_layer = torch.nn.Linear(net_width, net_width)\n",
    "            self.alpha_layer = torch.nn.Linear(net_width, 1)\n",
    "            self.rgb_layer = torch.nn.Linear(net_width // 2, 3)\n",
    "        else:\n",
    "            self.output_linear = torch.nn.Linear(net_width, output_channel)\n",
    "\n",
    "    def forward(self, x):\n",
    "        pass\n",
    "\n",
    "\n",
    "coarse_model = NeRF(args.coarse_net_width, args.coarse_net_depth, 3, 4, 8, True, [4])\n",
    "grad_vars = list(coarse_model.parameters())\n",
    "optimizer = torch.optim.Adam(params=grad_vars, lr=args.learning_rate, betas=(0.9, 0.999))"
   ],
   "outputs": [],
   "execution_count": 13
  },
  {
   "metadata": {},
   "cell_type": "markdown",
   "source": "2. ",
   "id": "2ff8f6a8decbd1ad"
  },
  {
   "metadata": {},
   "cell_type": "code",
   "outputs": [],
   "execution_count": null,
   "source": "",
   "id": "b500ade41f20b6fe"
  }
 ],
 "metadata": {
  "kernelspec": {
   "display_name": "Python 3",
   "language": "python",
   "name": "python3"
  },
  "language_info": {
   "codemirror_mode": {
    "name": "ipython",
    "version": 2
   },
   "file_extension": ".py",
   "mimetype": "text/x-python",
   "name": "python",
   "nbconvert_exporter": "python",
   "pygments_lexer": "ipython2",
   "version": "2.7.6"
  }
 },
 "nbformat": 4,
 "nbformat_minor": 5
}
